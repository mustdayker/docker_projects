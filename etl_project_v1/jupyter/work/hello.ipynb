{
 "cells": [
  {
   "cell_type": "code",
   "execution_count": 1,
   "id": "0021b7b1-31ae-46dc-8102-7383a38d7e9c",
   "metadata": {},
   "outputs": [
    {
     "name": "stdout",
     "output_type": "stream",
     "text": [
      "hello world!\n"
     ]
    }
   ],
   "source": [
    "print(\"hello world!\")"
   ]
  },
  {
   "cell_type": "markdown",
   "id": "a436ff02-c4ef-40aa-85c5-15fedd4565b5",
   "metadata": {},
   "source": [
    "### Spark сессия"
   ]
  },
  {
   "cell_type": "code",
   "execution_count": 2,
   "id": "9f8ada13-0939-4069-899c-608687a95b95",
   "metadata": {},
   "outputs": [
    {
     "name": "stderr",
     "output_type": "stream",
     "text": [
      "25/10/31 18:40:33 WARN NativeCodeLoader: Unable to load native-hadoop library for your platform... using builtin-java classes where applicable\n",
      "Setting default log level to \"WARN\".\n",
      "To adjust logging level use sc.setLogLevel(newLevel). For SparkR, use setLogLevel(newLevel).\n"
     ]
    }
   ],
   "source": [
    "from pyspark.sql import SparkSession\n",
    "from pyspark.sql import functions as F\n",
    "\n",
    "drivers = [\n",
    "    \"/home/jovyan/work/spark-jars/hadoop-aws-3.3.4.jar\",             # S3\n",
    "    \"/home/jovyan/work/spark-jars/aws-java-sdk-bundle-1.12.262.jar\", # S3\n",
    "    \"/home/jovyan/work/spark-jars/wildfly-openssl-1.0.7.Final.jar\",  # S3\n",
    "    \"/home/jovyan/work/spark-jars/postgresql-42.6.0.jar\",            # PostgreSQL\n",
    "]\n",
    "\n",
    "spark = (SparkSession.builder\n",
    "         .appName(\"mustdayker-Spark\")\n",
    "         .master(\"spark://spark-master:7077\") \n",
    "         .config(\"spark.jars\", \",\".join(drivers))\n",
    "         .getOrCreate()\n",
    "        )"
   ]
  },
  {
   "cell_type": "markdown",
   "id": "4170a035-4b55-4574-9929-18de614ba2f4",
   "metadata": {},
   "source": [
    "### Читаем датафрейм"
   ]
  },
  {
   "cell_type": "code",
   "execution_count": 117,
   "id": "d35d147f-cb37-4f98-a748-af6769032ab2",
   "metadata": {},
   "outputs": [],
   "source": [
    "df_2023_01 = spark.read.parquet(\"s3a://silver/nyc-taxi-data/yellow_tripdata_2023-01.parquet\")\n",
    "df_2024_01 = spark.read.parquet(\"s3a://bronze/nyc-taxi-data/yellow_tripdata_2024-01.parquet\")\n",
    "df_2025_01 = spark.read.parquet(\"s3a://bronze/nyc-taxi-data/yellow_tripdata_2025-01.parquet\")\n"
   ]
  },
  {
   "cell_type": "code",
   "execution_count": 125,
   "id": "36653660-b6e1-438e-8c4b-5203f601609a",
   "metadata": {},
   "outputs": [],
   "source": [
    "layer = \"silver\"\n",
    "\n",
    "df = (spark.read\n",
    "      .format(\"parquet\")\n",
    "      .option(\"mergeSchema\", \"true\")\n",
    "      .load([\n",
    "          f\"s3a://{layer}/nyc-taxi-data/yellow_tripdata_2023-*.parquet\",\n",
    "          f\"s3a://{layer}/nyc-taxi-data/yellow_tripdata_2024-*.parquet\",\n",
    "          f\"s3a://{layer}/nyc-taxi-data/yellow_tripdata_2025-*.parquet\",\n",
    "      ])\n",
    "     )"
   ]
  },
  {
   "cell_type": "code",
   "execution_count": 126,
   "id": "d8762ecf-0e8a-4c46-a43c-75d0e1a0dec4",
   "metadata": {},
   "outputs": [
    {
     "name": "stdout",
     "output_type": "stream",
     "text": [
      "Количетсво строк: 115287399\n",
      "\n"
     ]
    }
   ],
   "source": [
    "print(f\"Количетсво строк: {df.count()}\\n\")"
   ]
  },
  {
   "cell_type": "code",
   "execution_count": 127,
   "id": "621f0e8c-1cfd-48d4-9d19-c4f820dbf350",
   "metadata": {},
   "outputs": [
    {
     "name": "stdout",
     "output_type": "stream",
     "text": [
      "+--------+--------------------+---------------------+---------------+-------------+----------+------------------+------------+------------+------------+-----------+-----+-------+----------+------------+---------------------+------------+--------------------+-----------+------------------+\n",
      "|vendorid|tpep_pickup_datetime|tpep_dropoff_datetime|passenger_count|trip_distance|ratecodeid|store_and_fwd_flag|pulocationid|dolocationid|payment_type|fare_amount|extra|mta_tax|tip_amount|tolls_amount|improvement_surcharge|total_amount|congestion_surcharge|airport_fee|cbd_congestion_fee|\n",
      "+--------+--------------------+---------------------+---------------+-------------+----------+------------------+------------+------------+------------+-----------+-----+-------+----------+------------+---------------------+------------+--------------------+-----------+------------------+\n",
      "|       1| 2023-05-01 00:33:13|  2023-05-01 00:53:01|              0|          7.8|         1|                 N|         138|          43|           1|       33.8| 7.75|    0.5|       8.6|         0.0|                  1.0|       51.65|                 0.0|       1.75|              NULL|\n",
      "+--------+--------------------+---------------------+---------------+-------------+----------+------------------+------------+------------+------------+-----------+-----+-------+----------+------------+---------------------+------------+--------------------+-----------+------------------+\n",
      "only showing top 1 row\n",
      "\n"
     ]
    }
   ],
   "source": [
    "df.show(1)"
   ]
  },
  {
   "cell_type": "code",
   "execution_count": 128,
   "id": "8bf76c46-f813-4267-8615-40bd52a117ff",
   "metadata": {},
   "outputs": [
    {
     "name": "stdout",
     "output_type": "stream",
     "text": [
      "Количетсво строк: 115287399\n",
      "\n"
     ]
    },
    {
     "name": "stderr",
     "output_type": "stream",
     "text": [
      "[Stage 377:============================================>          (20 + 5) / 25]"
     ]
    },
    {
     "name": "stdout",
     "output_type": "stream",
     "text": [
      "+----+-----+-------------+-----------+\n",
      "|year|month|total_records|Обдираловка|\n",
      "+----+-----+-------------+-----------+\n",
      "|2001|    1|            6|        3.0|\n",
      "|2002|   12|           22|      11.25|\n",
      "|2003|    1|            6|        2.5|\n",
      "|2007|   12|            1|        0.0|\n",
      "|2008|   12|           33|      17.75|\n",
      "|2009|    1|           37|      15.75|\n",
      "|2014|   11|            1|        0.0|\n",
      "|2022|   10|           11|        2.5|\n",
      "|2022|   12|           25|        2.5|\n",
      "|2023|    1|      3066726|  321686.25|\n",
      "|2023|    2|      2914003|   274590.0|\n",
      "|2023|    3|      3403660|  344928.75|\n",
      "|2023|    4|      3288248|  450625.25|\n",
      "|2023|    5|      3513664|   481782.0|\n",
      "|2023|    6|      3307259|  492094.75|\n",
      "|2023|    7|      2907093|  463704.45|\n",
      "|2023|    8|      2824201|   471320.0|\n",
      "|2023|    9|      2846741|   446869.5|\n",
      "|2023|   10|      3522269|  519090.25|\n",
      "|2023|   11|      3339731|   477872.5|\n",
      "|2023|   12|      3376537|   437989.5|\n",
      "|2024|    1|      2964623|  398704.25|\n",
      "|2024|    2|      3007533|  364369.25|\n",
      "|2024|    3|      3582611|  449930.25|\n",
      "|2024|    4|      3514295|   455673.5|\n",
      "|2024|    5|      3723843|  497803.75|\n",
      "|2024|    6|      3539170|   466498.5|\n",
      "|2024|    7|      3076876|   469609.0|\n",
      "|2024|    8|      2979192|   467673.5|\n",
      "|2024|    9|      3633025|   494349.5|\n",
      "|2024|   10|      3833780|  517261.75|\n",
      "|2024|   11|      3646372|  440445.25|\n",
      "|2024|   12|      3668371|   428421.0|\n",
      "|2025|    1|      3475236|  363690.25|\n",
      "|2025|    2|      3577543|   336986.5|\n",
      "|2025|    3|      4145231|   436253.0|\n",
      "|2025|    4|      3970568|   435114.0|\n",
      "|2025|    5|      4591844|  520221.25|\n",
      "|2025|    6|      4322949|   493993.5|\n",
      "|2025|    7|      3898971|  454090.25|\n",
      "|2025|    8|      3574080|  453780.75|\n",
      "|2025|    9|      4251009|  477084.25|\n",
      "|2025|   10|            1|        0.0|\n",
      "|2026|    6|            2|       1.75|\n",
      "+----+-----+-------------+-----------+\n",
      "\n"
     ]
    },
    {
     "name": "stderr",
     "output_type": "stream",
     "text": [
      "                                                                                "
     ]
    }
   ],
   "source": [
    "print(f\"Количетсво строк: {df.count()}\\n\")\n",
    "\n",
    "(df.withColumn(\"year\",  F.year(\"tpep_pickup_datetime\"))\n",
    "   .withColumn(\"month\", F.month(\"tpep_pickup_datetime\"))\n",
    "   .select(\"year\", \n",
    "           \"month\", \n",
    "           \"VendorID\",\n",
    "           \"tpep_pickup_datetime\", \n",
    "           \"passenger_count\", \n",
    "           \"trip_distance\",\n",
    "           \"airport_fee\",\n",
    "          )\n",
    "   .groupBy(\"year\", \"month\")\n",
    "   .agg(\n",
    "       F.count(\"*\").alias(\"total_records\"),\n",
    "       F.sum(\"airport_fee\").alias(\"Обдираловка\"),\n",
    "       )\n",
    "   .orderBy(\"year\", \"month\")\n",
    "   .show(50)\n",
    ")"
   ]
  },
  {
   "cell_type": "markdown",
   "id": "5ee3de6e-633c-40e1-b1f9-5084a8f6c509",
   "metadata": {},
   "source": [
    "### Исследуем"
   ]
  },
  {
   "cell_type": "code",
   "execution_count": 115,
   "id": "bf043c8a-8a10-407b-bcaf-d275ec43f6ba",
   "metadata": {},
   "outputs": [],
   "source": [
    "from pyspark.sql import functions as F\n",
    "from pyspark.sql.types import DoubleType, IntegerType\n",
    "\n",
    "def standardize_nyc_taxi_data(input_path, output_path):\n",
    "    \"\"\"\n",
    "    Стандартизирует данные NYC Taxi:\n",
    "    - Приводит все названия колонок к нижнему регистру\n",
    "    - Приводит типы данных к унифицированным\n",
    "    - Сохраняет в указанный путь\n",
    "    \"\"\"\n",
    "    \n",
    "    # Читаем исходные данные\n",
    "    df = spark.read.parquet(input_path)\n",
    "    \n",
    "    # 1. Приводим все названия колонок к нижнему регистру\n",
    "    for col_name in df.columns:\n",
    "        df = df.withColumnRenamed(col_name, col_name.lower())\n",
    "    \n",
    "    # 2. Определяем маппинг типов для унификации\n",
    "    type_mapping = {\n",
    "        # Числовые идентификаторы - в Integer\n",
    "        \"vendorid\": IntegerType(),\n",
    "        \"pulocationid\": IntegerType(), \n",
    "        \"dolocationid\": IntegerType(),\n",
    "        \"payment_type\": IntegerType(),\n",
    "        \"ratecodeid\": IntegerType(),\n",
    "        \n",
    "        # Пассажиры - в Integer (более логично)\n",
    "        \"passenger_count\": IntegerType(),\n",
    "        \n",
    "        # Денежные суммы - в Double (для точности)\n",
    "        \"fare_amount\": DoubleType(),\n",
    "        \"extra\": DoubleType(),\n",
    "        \"mta_tax\": DoubleType(),\n",
    "        \"tip_amount\": DoubleType(),\n",
    "        \"tolls_amount\": DoubleType(),\n",
    "        \"improvement_surcharge\": DoubleType(),\n",
    "        \"total_amount\": DoubleType(),\n",
    "        \"congestion_surcharge\": DoubleType(),\n",
    "        \"airport_fee\": DoubleType(),\n",
    "        \"cbd_congestion_fee\": DoubleType(),\n",
    "        \n",
    "        # Дистанция - в Double\n",
    "        \"trip_distance\": DoubleType()\n",
    "    }\n",
    "    \n",
    "    # 3. Применяем преобразование типов с обработкой ошибок\n",
    "    for col_name, target_type in type_mapping.items():\n",
    "        if col_name in df.columns:\n",
    "            df = df.withColumn(\n",
    "                col_name, \n",
    "                F.coalesce(\n",
    "                    F.col(col_name).cast(target_type), \n",
    "                    F.lit(0 if target_type == IntegerType() else 0.0)\n",
    "                )\n",
    "            )\n",
    "    \n",
    "    # 4. Гарантируем порядок колонок для consistency\n",
    "    expected_columns = [\n",
    "        \"vendorid\", \"tpep_pickup_datetime\", \"tpep_dropoff_datetime\",\n",
    "        \"passenger_count\", \"trip_distance\", \"ratecodeid\", \"store_and_fwd_flag\",\n",
    "        \"pulocationid\", \"dolocationid\", \"payment_type\", \"fare_amount\", \"extra\",\n",
    "        \"mta_tax\", \"tip_amount\", \"tolls_amount\", \"improvement_surcharge\",\n",
    "        \"total_amount\", \"congestion_surcharge\", \"airport_fee\", \"cbd_congestion_fee\"\n",
    "    ]\n",
    "    \n",
    "    # Выбираем только существующие колонки в правильном порядке\n",
    "    final_columns = [col for col in expected_columns if col in df.columns]\n",
    "    df_standardized = df.select(final_columns)\n",
    "    \n",
    "    # 5. Сохраняем с оптимальными настройками\n",
    "    (df_standardized\n",
    "     .write\n",
    "     .mode(\"overwrite\")\n",
    "     .option(\"compression\", \"snappy\")  # хороший баланс скорость/сжатие\n",
    "     .parquet(output_path)\n",
    "    )\n",
    "    \n",
    "    print(f\"✅ Стандартизировано: {input_path} -> {output_path}\")\n",
    "    print(f\"📊 Схема после стандартизации:\")\n",
    "    df_standardized.printSchema()\n",
    "    \n",
    "    return df_standardized"
   ]
  },
  {
   "cell_type": "code",
   "execution_count": 116,
   "id": "dd36c7e4-33e0-42e4-8bb3-0c8b620e18c2",
   "metadata": {},
   "outputs": [
    {
     "name": "stderr",
     "output_type": "stream",
     "text": [
      "                                                                                "
     ]
    },
    {
     "name": "stdout",
     "output_type": "stream",
     "text": [
      "✅ Стандартизировано: s3a://bronze/nyc-taxi-data/yellow_tripdata_2023-01.parquet -> s3a://silver/nyc-taxi-data/yellow_tripdata_2023-01.parquet\n",
      "📊 Схема после стандартизации:\n",
      "root\n",
      " |-- vendorid: integer (nullable = false)\n",
      " |-- tpep_pickup_datetime: timestamp_ntz (nullable = true)\n",
      " |-- tpep_dropoff_datetime: timestamp_ntz (nullable = true)\n",
      " |-- passenger_count: integer (nullable = false)\n",
      " |-- trip_distance: double (nullable = false)\n",
      " |-- ratecodeid: integer (nullable = false)\n",
      " |-- store_and_fwd_flag: string (nullable = true)\n",
      " |-- pulocationid: integer (nullable = false)\n",
      " |-- dolocationid: integer (nullable = false)\n",
      " |-- payment_type: integer (nullable = false)\n",
      " |-- fare_amount: double (nullable = false)\n",
      " |-- extra: double (nullable = false)\n",
      " |-- mta_tax: double (nullable = false)\n",
      " |-- tip_amount: double (nullable = false)\n",
      " |-- tolls_amount: double (nullable = false)\n",
      " |-- improvement_surcharge: double (nullable = false)\n",
      " |-- total_amount: double (nullable = false)\n",
      " |-- congestion_surcharge: double (nullable = false)\n",
      " |-- airport_fee: double (nullable = false)\n",
      "\n"
     ]
    }
   ],
   "source": [
    "# Пример использования для одного файла\n",
    "input_path = \"s3a://bronze/nyc-taxi-data/yellow_tripdata_2023-01.parquet\"\n",
    "output_path = \"s3a://silver/nyc-taxi-data/yellow_tripdata_2023-01.parquet\"\n",
    "\n",
    "standardized_df = standardize_nyc_taxi_data(input_path, output_path)"
   ]
  },
  {
   "cell_type": "code",
   "execution_count": 123,
   "id": "70c1f8ed-0c6d-4ff8-a73c-66884d269d7d",
   "metadata": {},
   "outputs": [],
   "source": [
    "def process_all_nyc_taxi_files():\n",
    "    \"\"\"Обрабатывает все файлы NYC Taxi из Bronze в Silver\"\"\"\n",
    "    \n",
    "    # Получаем список всех parquet файлов в bronze\n",
    "    bronze_files = spark.sql(f\"\"\"\n",
    "        SELECT path \n",
    "        FROM (\n",
    "            SELECT input_file_name() as path \n",
    "            FROM parquet.`s3a://bronze/nyc-taxi-data/`\n",
    "        ) \n",
    "        GROUP BY path\n",
    "    \"\"\").collect()\n",
    "    \n",
    "    print(f\"📁 Найдено файлов для обработки: {len(bronze_files)}\")\n",
    "    \n",
    "    for i, row in enumerate(bronze_files, 1):\n",
    "        input_path = row['path']\n",
    "        # Извлекаем имя файла из пути\n",
    "        file_name = input_path.split('/')[-1]\n",
    "        output_path = f\"s3a://silver/nyc-taxi-data/{file_name}\"\n",
    "        \n",
    "        print(f\"🔄 Обрабатываю ({i}/{len(bronze_files)}): {file_name}\")\n",
    "        \n",
    "        try:\n",
    "            standardize_nyc_taxi_data(input_path, output_path)\n",
    "        except Exception as e:\n",
    "            print(f\"❌ Ошибка при обработке {file_name}: {e}\")\n",
    "    \n",
    "    print(\"🎉 Все файлы обработаны!\")"
   ]
  },
  {
   "cell_type": "code",
   "execution_count": 124,
   "id": "f13223e7-6875-46fd-89aa-163df47d1617",
   "metadata": {},
   "outputs": [
    {
     "name": "stderr",
     "output_type": "stream",
     "text": [
      "25/10/31 20:07:32 WARN ObjectStore: Failed to get database parquet, returning NoSuchObjectException\n",
      "                                                                                "
     ]
    },
    {
     "name": "stdout",
     "output_type": "stream",
     "text": [
      "📁 Найдено файлов для обработки: 45\n",
      "🔄 Обрабатываю (1/45): yellow_tripdata_2025-05.parquet\n"
     ]
    },
    {
     "name": "stderr",
     "output_type": "stream",
     "text": [
      "                                                                                "
     ]
    },
    {
     "name": "stdout",
     "output_type": "stream",
     "text": [
      "✅ Стандартизировано: s3a://bronze/nyc-taxi-data/yellow_tripdata_2025-05.parquet -> s3a://silver/nyc-taxi-data/yellow_tripdata_2025-05.parquet\n",
      "📊 Схема после стандартизации:\n",
      "root\n",
      " |-- vendorid: integer (nullable = false)\n",
      " |-- tpep_pickup_datetime: timestamp_ntz (nullable = true)\n",
      " |-- tpep_dropoff_datetime: timestamp_ntz (nullable = true)\n",
      " |-- passenger_count: integer (nullable = false)\n",
      " |-- trip_distance: double (nullable = false)\n",
      " |-- ratecodeid: integer (nullable = false)\n",
      " |-- store_and_fwd_flag: string (nullable = true)\n",
      " |-- pulocationid: integer (nullable = false)\n",
      " |-- dolocationid: integer (nullable = false)\n",
      " |-- payment_type: integer (nullable = false)\n",
      " |-- fare_amount: double (nullable = false)\n",
      " |-- extra: double (nullable = false)\n",
      " |-- mta_tax: double (nullable = false)\n",
      " |-- tip_amount: double (nullable = false)\n",
      " |-- tolls_amount: double (nullable = false)\n",
      " |-- improvement_surcharge: double (nullable = false)\n",
      " |-- total_amount: double (nullable = false)\n",
      " |-- congestion_surcharge: double (nullable = false)\n",
      " |-- airport_fee: double (nullable = false)\n",
      " |-- cbd_congestion_fee: double (nullable = false)\n",
      "\n",
      "🔄 Обрабатываю (2/45): yellow_tripdata_2025-09.parquet\n"
     ]
    },
    {
     "name": "stderr",
     "output_type": "stream",
     "text": [
      "                                                                                "
     ]
    },
    {
     "name": "stdout",
     "output_type": "stream",
     "text": [
      "✅ Стандартизировано: s3a://bronze/nyc-taxi-data/yellow_tripdata_2025-09.parquet -> s3a://silver/nyc-taxi-data/yellow_tripdata_2025-09.parquet\n",
      "📊 Схема после стандартизации:\n",
      "root\n",
      " |-- vendorid: integer (nullable = false)\n",
      " |-- tpep_pickup_datetime: timestamp_ntz (nullable = true)\n",
      " |-- tpep_dropoff_datetime: timestamp_ntz (nullable = true)\n",
      " |-- passenger_count: integer (nullable = false)\n",
      " |-- trip_distance: double (nullable = false)\n",
      " |-- ratecodeid: integer (nullable = false)\n",
      " |-- store_and_fwd_flag: string (nullable = true)\n",
      " |-- pulocationid: integer (nullable = false)\n",
      " |-- dolocationid: integer (nullable = false)\n",
      " |-- payment_type: integer (nullable = false)\n",
      " |-- fare_amount: double (nullable = false)\n",
      " |-- extra: double (nullable = false)\n",
      " |-- mta_tax: double (nullable = false)\n",
      " |-- tip_amount: double (nullable = false)\n",
      " |-- tolls_amount: double (nullable = false)\n",
      " |-- improvement_surcharge: double (nullable = false)\n",
      " |-- total_amount: double (nullable = false)\n",
      " |-- congestion_surcharge: double (nullable = false)\n",
      " |-- airport_fee: double (nullable = false)\n",
      " |-- cbd_congestion_fee: double (nullable = false)\n",
      "\n",
      "🔄 Обрабатываю (3/45): yellow_tripdata_2025-04.parquet\n"
     ]
    },
    {
     "name": "stderr",
     "output_type": "stream",
     "text": [
      "                                                                                "
     ]
    },
    {
     "name": "stdout",
     "output_type": "stream",
     "text": [
      "✅ Стандартизировано: s3a://bronze/nyc-taxi-data/yellow_tripdata_2025-04.parquet -> s3a://silver/nyc-taxi-data/yellow_tripdata_2025-04.parquet\n",
      "📊 Схема после стандартизации:\n",
      "root\n",
      " |-- vendorid: integer (nullable = false)\n",
      " |-- tpep_pickup_datetime: timestamp_ntz (nullable = true)\n",
      " |-- tpep_dropoff_datetime: timestamp_ntz (nullable = true)\n",
      " |-- passenger_count: integer (nullable = false)\n",
      " |-- trip_distance: double (nullable = false)\n",
      " |-- ratecodeid: integer (nullable = false)\n",
      " |-- store_and_fwd_flag: string (nullable = true)\n",
      " |-- pulocationid: integer (nullable = false)\n",
      " |-- dolocationid: integer (nullable = false)\n",
      " |-- payment_type: integer (nullable = false)\n",
      " |-- fare_amount: double (nullable = false)\n",
      " |-- extra: double (nullable = false)\n",
      " |-- mta_tax: double (nullable = false)\n",
      " |-- tip_amount: double (nullable = false)\n",
      " |-- tolls_amount: double (nullable = false)\n",
      " |-- improvement_surcharge: double (nullable = false)\n",
      " |-- total_amount: double (nullable = false)\n",
      " |-- congestion_surcharge: double (nullable = false)\n",
      " |-- airport_fee: double (nullable = false)\n",
      " |-- cbd_congestion_fee: double (nullable = false)\n",
      "\n",
      "🔄 Обрабатываю (4/45): yellow_tripdata_2024-10.parquet\n"
     ]
    },
    {
     "name": "stderr",
     "output_type": "stream",
     "text": [
      "                                                                                "
     ]
    },
    {
     "name": "stdout",
     "output_type": "stream",
     "text": [
      "✅ Стандартизировано: s3a://bronze/nyc-taxi-data/yellow_tripdata_2024-10.parquet -> s3a://silver/nyc-taxi-data/yellow_tripdata_2024-10.parquet\n",
      "📊 Схема после стандартизации:\n",
      "root\n",
      " |-- vendorid: integer (nullable = false)\n",
      " |-- tpep_pickup_datetime: timestamp_ntz (nullable = true)\n",
      " |-- tpep_dropoff_datetime: timestamp_ntz (nullable = true)\n",
      " |-- passenger_count: integer (nullable = false)\n",
      " |-- trip_distance: double (nullable = false)\n",
      " |-- ratecodeid: integer (nullable = false)\n",
      " |-- store_and_fwd_flag: string (nullable = true)\n",
      " |-- pulocationid: integer (nullable = false)\n",
      " |-- dolocationid: integer (nullable = false)\n",
      " |-- payment_type: integer (nullable = false)\n",
      " |-- fare_amount: double (nullable = false)\n",
      " |-- extra: double (nullable = false)\n",
      " |-- mta_tax: double (nullable = false)\n",
      " |-- tip_amount: double (nullable = false)\n",
      " |-- tolls_amount: double (nullable = false)\n",
      " |-- improvement_surcharge: double (nullable = false)\n",
      " |-- total_amount: double (nullable = false)\n",
      " |-- congestion_surcharge: double (nullable = false)\n",
      " |-- airport_fee: double (nullable = false)\n",
      "\n",
      "🔄 Обрабатываю (5/45): yellow_tripdata_2024-05.parquet\n"
     ]
    },
    {
     "name": "stderr",
     "output_type": "stream",
     "text": [
      "                                                                                "
     ]
    },
    {
     "name": "stdout",
     "output_type": "stream",
     "text": [
      "✅ Стандартизировано: s3a://bronze/nyc-taxi-data/yellow_tripdata_2024-05.parquet -> s3a://silver/nyc-taxi-data/yellow_tripdata_2024-05.parquet\n",
      "📊 Схема после стандартизации:\n",
      "root\n",
      " |-- vendorid: integer (nullable = false)\n",
      " |-- tpep_pickup_datetime: timestamp_ntz (nullable = true)\n",
      " |-- tpep_dropoff_datetime: timestamp_ntz (nullable = true)\n",
      " |-- passenger_count: integer (nullable = false)\n",
      " |-- trip_distance: double (nullable = false)\n",
      " |-- ratecodeid: integer (nullable = false)\n",
      " |-- store_and_fwd_flag: string (nullable = true)\n",
      " |-- pulocationid: integer (nullable = false)\n",
      " |-- dolocationid: integer (nullable = false)\n",
      " |-- payment_type: integer (nullable = false)\n",
      " |-- fare_amount: double (nullable = false)\n",
      " |-- extra: double (nullable = false)\n",
      " |-- mta_tax: double (nullable = false)\n",
      " |-- tip_amount: double (nullable = false)\n",
      " |-- tolls_amount: double (nullable = false)\n",
      " |-- improvement_surcharge: double (nullable = false)\n",
      " |-- total_amount: double (nullable = false)\n",
      " |-- congestion_surcharge: double (nullable = false)\n",
      " |-- airport_fee: double (nullable = false)\n",
      "\n",
      "🔄 Обрабатываю (6/45): yellow_tripdata_2024-11.parquet\n"
     ]
    },
    {
     "name": "stderr",
     "output_type": "stream",
     "text": [
      "                                                                                "
     ]
    },
    {
     "name": "stdout",
     "output_type": "stream",
     "text": [
      "✅ Стандартизировано: s3a://bronze/nyc-taxi-data/yellow_tripdata_2024-11.parquet -> s3a://silver/nyc-taxi-data/yellow_tripdata_2024-11.parquet\n",
      "📊 Схема после стандартизации:\n",
      "root\n",
      " |-- vendorid: integer (nullable = false)\n",
      " |-- tpep_pickup_datetime: timestamp_ntz (nullable = true)\n",
      " |-- tpep_dropoff_datetime: timestamp_ntz (nullable = true)\n",
      " |-- passenger_count: integer (nullable = false)\n",
      " |-- trip_distance: double (nullable = false)\n",
      " |-- ratecodeid: integer (nullable = false)\n",
      " |-- store_and_fwd_flag: string (nullable = true)\n",
      " |-- pulocationid: integer (nullable = false)\n",
      " |-- dolocationid: integer (nullable = false)\n",
      " |-- payment_type: integer (nullable = false)\n",
      " |-- fare_amount: double (nullable = false)\n",
      " |-- extra: double (nullable = false)\n",
      " |-- mta_tax: double (nullable = false)\n",
      " |-- tip_amount: double (nullable = false)\n",
      " |-- tolls_amount: double (nullable = false)\n",
      " |-- improvement_surcharge: double (nullable = false)\n",
      " |-- total_amount: double (nullable = false)\n",
      " |-- congestion_surcharge: double (nullable = false)\n",
      " |-- airport_fee: double (nullable = false)\n",
      "\n",
      "🔄 Обрабатываю (7/45): yellow_tripdata_2024-09.parquet\n"
     ]
    },
    {
     "name": "stderr",
     "output_type": "stream",
     "text": [
      "                                                                                "
     ]
    },
    {
     "name": "stdout",
     "output_type": "stream",
     "text": [
      "✅ Стандартизировано: s3a://bronze/nyc-taxi-data/yellow_tripdata_2024-09.parquet -> s3a://silver/nyc-taxi-data/yellow_tripdata_2024-09.parquet\n",
      "📊 Схема после стандартизации:\n",
      "root\n",
      " |-- vendorid: integer (nullable = false)\n",
      " |-- tpep_pickup_datetime: timestamp_ntz (nullable = true)\n",
      " |-- tpep_dropoff_datetime: timestamp_ntz (nullable = true)\n",
      " |-- passenger_count: integer (nullable = false)\n",
      " |-- trip_distance: double (nullable = false)\n",
      " |-- ratecodeid: integer (nullable = false)\n",
      " |-- store_and_fwd_flag: string (nullable = true)\n",
      " |-- pulocationid: integer (nullable = false)\n",
      " |-- dolocationid: integer (nullable = false)\n",
      " |-- payment_type: integer (nullable = false)\n",
      " |-- fare_amount: double (nullable = false)\n",
      " |-- extra: double (nullable = false)\n",
      " |-- mta_tax: double (nullable = false)\n",
      " |-- tip_amount: double (nullable = false)\n",
      " |-- tolls_amount: double (nullable = false)\n",
      " |-- improvement_surcharge: double (nullable = false)\n",
      " |-- total_amount: double (nullable = false)\n",
      " |-- congestion_surcharge: double (nullable = false)\n",
      " |-- airport_fee: double (nullable = false)\n",
      "\n",
      "🔄 Обрабатываю (8/45): yellow_tripdata_2024-04.parquet\n"
     ]
    },
    {
     "name": "stderr",
     "output_type": "stream",
     "text": [
      "                                                                                "
     ]
    },
    {
     "name": "stdout",
     "output_type": "stream",
     "text": [
      "✅ Стандартизировано: s3a://bronze/nyc-taxi-data/yellow_tripdata_2024-04.parquet -> s3a://silver/nyc-taxi-data/yellow_tripdata_2024-04.parquet\n",
      "📊 Схема после стандартизации:\n",
      "root\n",
      " |-- vendorid: integer (nullable = false)\n",
      " |-- tpep_pickup_datetime: timestamp_ntz (nullable = true)\n",
      " |-- tpep_dropoff_datetime: timestamp_ntz (nullable = true)\n",
      " |-- passenger_count: integer (nullable = false)\n",
      " |-- trip_distance: double (nullable = false)\n",
      " |-- ratecodeid: integer (nullable = false)\n",
      " |-- store_and_fwd_flag: string (nullable = true)\n",
      " |-- pulocationid: integer (nullable = false)\n",
      " |-- dolocationid: integer (nullable = false)\n",
      " |-- payment_type: integer (nullable = false)\n",
      " |-- fare_amount: double (nullable = false)\n",
      " |-- extra: double (nullable = false)\n",
      " |-- mta_tax: double (nullable = false)\n",
      " |-- tip_amount: double (nullable = false)\n",
      " |-- tolls_amount: double (nullable = false)\n",
      " |-- improvement_surcharge: double (nullable = false)\n",
      " |-- total_amount: double (nullable = false)\n",
      " |-- congestion_surcharge: double (nullable = false)\n",
      " |-- airport_fee: double (nullable = false)\n",
      "\n",
      "🔄 Обрабатываю (9/45): yellow_tripdata_2023-10.parquet\n"
     ]
    },
    {
     "name": "stderr",
     "output_type": "stream",
     "text": [
      "                                                                                "
     ]
    },
    {
     "name": "stdout",
     "output_type": "stream",
     "text": [
      "✅ Стандартизировано: s3a://bronze/nyc-taxi-data/yellow_tripdata_2023-10.parquet -> s3a://silver/nyc-taxi-data/yellow_tripdata_2023-10.parquet\n",
      "📊 Схема после стандартизации:\n",
      "root\n",
      " |-- vendorid: integer (nullable = false)\n",
      " |-- tpep_pickup_datetime: timestamp_ntz (nullable = true)\n",
      " |-- tpep_dropoff_datetime: timestamp_ntz (nullable = true)\n",
      " |-- passenger_count: integer (nullable = false)\n",
      " |-- trip_distance: double (nullable = false)\n",
      " |-- ratecodeid: integer (nullable = false)\n",
      " |-- store_and_fwd_flag: string (nullable = true)\n",
      " |-- pulocationid: integer (nullable = false)\n",
      " |-- dolocationid: integer (nullable = false)\n",
      " |-- payment_type: integer (nullable = false)\n",
      " |-- fare_amount: double (nullable = false)\n",
      " |-- extra: double (nullable = false)\n",
      " |-- mta_tax: double (nullable = false)\n",
      " |-- tip_amount: double (nullable = false)\n",
      " |-- tolls_amount: double (nullable = false)\n",
      " |-- improvement_surcharge: double (nullable = false)\n",
      " |-- total_amount: double (nullable = false)\n",
      " |-- congestion_surcharge: double (nullable = false)\n",
      " |-- airport_fee: double (nullable = false)\n",
      "\n",
      "🔄 Обрабатываю (10/45): yellow_tripdata_2023-11.parquet\n"
     ]
    },
    {
     "name": "stderr",
     "output_type": "stream",
     "text": [
      "                                                                                "
     ]
    },
    {
     "name": "stdout",
     "output_type": "stream",
     "text": [
      "✅ Стандартизировано: s3a://bronze/nyc-taxi-data/yellow_tripdata_2023-11.parquet -> s3a://silver/nyc-taxi-data/yellow_tripdata_2023-11.parquet\n",
      "📊 Схема после стандартизации:\n",
      "root\n",
      " |-- vendorid: integer (nullable = false)\n",
      " |-- tpep_pickup_datetime: timestamp_ntz (nullable = true)\n",
      " |-- tpep_dropoff_datetime: timestamp_ntz (nullable = true)\n",
      " |-- passenger_count: integer (nullable = false)\n",
      " |-- trip_distance: double (nullable = false)\n",
      " |-- ratecodeid: integer (nullable = false)\n",
      " |-- store_and_fwd_flag: string (nullable = true)\n",
      " |-- pulocationid: integer (nullable = false)\n",
      " |-- dolocationid: integer (nullable = false)\n",
      " |-- payment_type: integer (nullable = false)\n",
      " |-- fare_amount: double (nullable = false)\n",
      " |-- extra: double (nullable = false)\n",
      " |-- mta_tax: double (nullable = false)\n",
      " |-- tip_amount: double (nullable = false)\n",
      " |-- tolls_amount: double (nullable = false)\n",
      " |-- improvement_surcharge: double (nullable = false)\n",
      " |-- total_amount: double (nullable = false)\n",
      " |-- congestion_surcharge: double (nullable = false)\n",
      " |-- airport_fee: double (nullable = false)\n",
      "\n",
      "🔄 Обрабатываю (11/45): yellow_tripdata_2022-03.parquet\n"
     ]
    },
    {
     "name": "stderr",
     "output_type": "stream",
     "text": [
      "                                                                                "
     ]
    },
    {
     "name": "stdout",
     "output_type": "stream",
     "text": [
      "✅ Стандартизировано: s3a://bronze/nyc-taxi-data/yellow_tripdata_2022-03.parquet -> s3a://silver/nyc-taxi-data/yellow_tripdata_2022-03.parquet\n",
      "📊 Схема после стандартизации:\n",
      "root\n",
      " |-- vendorid: integer (nullable = false)\n",
      " |-- tpep_pickup_datetime: timestamp_ntz (nullable = true)\n",
      " |-- tpep_dropoff_datetime: timestamp_ntz (nullable = true)\n",
      " |-- passenger_count: integer (nullable = false)\n",
      " |-- trip_distance: double (nullable = false)\n",
      " |-- ratecodeid: integer (nullable = false)\n",
      " |-- store_and_fwd_flag: string (nullable = true)\n",
      " |-- pulocationid: integer (nullable = false)\n",
      " |-- dolocationid: integer (nullable = false)\n",
      " |-- payment_type: integer (nullable = false)\n",
      " |-- fare_amount: double (nullable = false)\n",
      " |-- extra: double (nullable = false)\n",
      " |-- mta_tax: double (nullable = false)\n",
      " |-- tip_amount: double (nullable = false)\n",
      " |-- tolls_amount: double (nullable = false)\n",
      " |-- improvement_surcharge: double (nullable = false)\n",
      " |-- total_amount: double (nullable = false)\n",
      " |-- congestion_surcharge: double (nullable = false)\n",
      " |-- airport_fee: double (nullable = false)\n",
      "\n",
      "🔄 Обрабатываю (12/45): yellow_tripdata_2022-06.parquet\n"
     ]
    },
    {
     "name": "stderr",
     "output_type": "stream",
     "text": [
      "                                                                                "
     ]
    },
    {
     "name": "stdout",
     "output_type": "stream",
     "text": [
      "✅ Стандартизировано: s3a://bronze/nyc-taxi-data/yellow_tripdata_2022-06.parquet -> s3a://silver/nyc-taxi-data/yellow_tripdata_2022-06.parquet\n",
      "📊 Схема после стандартизации:\n",
      "root\n",
      " |-- vendorid: integer (nullable = false)\n",
      " |-- tpep_pickup_datetime: timestamp_ntz (nullable = true)\n",
      " |-- tpep_dropoff_datetime: timestamp_ntz (nullable = true)\n",
      " |-- passenger_count: integer (nullable = false)\n",
      " |-- trip_distance: double (nullable = false)\n",
      " |-- ratecodeid: integer (nullable = false)\n",
      " |-- store_and_fwd_flag: string (nullable = true)\n",
      " |-- pulocationid: integer (nullable = false)\n",
      " |-- dolocationid: integer (nullable = false)\n",
      " |-- payment_type: integer (nullable = false)\n",
      " |-- fare_amount: double (nullable = false)\n",
      " |-- extra: double (nullable = false)\n",
      " |-- mta_tax: double (nullable = false)\n",
      " |-- tip_amount: double (nullable = false)\n",
      " |-- tolls_amount: double (nullable = false)\n",
      " |-- improvement_surcharge: double (nullable = false)\n",
      " |-- total_amount: double (nullable = false)\n",
      " |-- congestion_surcharge: double (nullable = false)\n",
      " |-- airport_fee: double (nullable = false)\n",
      "\n",
      "🔄 Обрабатываю (13/45): yellow_tripdata_2022-05.parquet\n"
     ]
    },
    {
     "name": "stderr",
     "output_type": "stream",
     "text": [
      "                                                                                "
     ]
    },
    {
     "name": "stdout",
     "output_type": "stream",
     "text": [
      "✅ Стандартизировано: s3a://bronze/nyc-taxi-data/yellow_tripdata_2022-05.parquet -> s3a://silver/nyc-taxi-data/yellow_tripdata_2022-05.parquet\n",
      "📊 Схема после стандартизации:\n",
      "root\n",
      " |-- vendorid: integer (nullable = false)\n",
      " |-- tpep_pickup_datetime: timestamp_ntz (nullable = true)\n",
      " |-- tpep_dropoff_datetime: timestamp_ntz (nullable = true)\n",
      " |-- passenger_count: integer (nullable = false)\n",
      " |-- trip_distance: double (nullable = false)\n",
      " |-- ratecodeid: integer (nullable = false)\n",
      " |-- store_and_fwd_flag: string (nullable = true)\n",
      " |-- pulocationid: integer (nullable = false)\n",
      " |-- dolocationid: integer (nullable = false)\n",
      " |-- payment_type: integer (nullable = false)\n",
      " |-- fare_amount: double (nullable = false)\n",
      " |-- extra: double (nullable = false)\n",
      " |-- mta_tax: double (nullable = false)\n",
      " |-- tip_amount: double (nullable = false)\n",
      " |-- tolls_amount: double (nullable = false)\n",
      " |-- improvement_surcharge: double (nullable = false)\n",
      " |-- total_amount: double (nullable = false)\n",
      " |-- congestion_surcharge: double (nullable = false)\n",
      " |-- airport_fee: double (nullable = false)\n",
      "\n",
      "🔄 Обрабатываю (14/45): yellow_tripdata_2024-08.parquet\n"
     ]
    },
    {
     "name": "stderr",
     "output_type": "stream",
     "text": [
      "                                                                                "
     ]
    },
    {
     "name": "stdout",
     "output_type": "stream",
     "text": [
      "✅ Стандартизировано: s3a://bronze/nyc-taxi-data/yellow_tripdata_2024-08.parquet -> s3a://silver/nyc-taxi-data/yellow_tripdata_2024-08.parquet\n",
      "📊 Схема после стандартизации:\n",
      "root\n",
      " |-- vendorid: integer (nullable = false)\n",
      " |-- tpep_pickup_datetime: timestamp_ntz (nullable = true)\n",
      " |-- tpep_dropoff_datetime: timestamp_ntz (nullable = true)\n",
      " |-- passenger_count: integer (nullable = false)\n",
      " |-- trip_distance: double (nullable = false)\n",
      " |-- ratecodeid: integer (nullable = false)\n",
      " |-- store_and_fwd_flag: string (nullable = true)\n",
      " |-- pulocationid: integer (nullable = false)\n",
      " |-- dolocationid: integer (nullable = false)\n",
      " |-- payment_type: integer (nullable = false)\n",
      " |-- fare_amount: double (nullable = false)\n",
      " |-- extra: double (nullable = false)\n",
      " |-- mta_tax: double (nullable = false)\n",
      " |-- tip_amount: double (nullable = false)\n",
      " |-- tolls_amount: double (nullable = false)\n",
      " |-- improvement_surcharge: double (nullable = false)\n",
      " |-- total_amount: double (nullable = false)\n",
      " |-- congestion_surcharge: double (nullable = false)\n",
      " |-- airport_fee: double (nullable = false)\n",
      "\n",
      "🔄 Обрабатываю (15/45): yellow_tripdata_2024-07.parquet\n"
     ]
    },
    {
     "name": "stderr",
     "output_type": "stream",
     "text": [
      "                                                                                "
     ]
    },
    {
     "name": "stdout",
     "output_type": "stream",
     "text": [
      "✅ Стандартизировано: s3a://bronze/nyc-taxi-data/yellow_tripdata_2024-07.parquet -> s3a://silver/nyc-taxi-data/yellow_tripdata_2024-07.parquet\n",
      "📊 Схема после стандартизации:\n",
      "root\n",
      " |-- vendorid: integer (nullable = false)\n",
      " |-- tpep_pickup_datetime: timestamp_ntz (nullable = true)\n",
      " |-- tpep_dropoff_datetime: timestamp_ntz (nullable = true)\n",
      " |-- passenger_count: integer (nullable = false)\n",
      " |-- trip_distance: double (nullable = false)\n",
      " |-- ratecodeid: integer (nullable = false)\n",
      " |-- store_and_fwd_flag: string (nullable = true)\n",
      " |-- pulocationid: integer (nullable = false)\n",
      " |-- dolocationid: integer (nullable = false)\n",
      " |-- payment_type: integer (nullable = false)\n",
      " |-- fare_amount: double (nullable = false)\n",
      " |-- extra: double (nullable = false)\n",
      " |-- mta_tax: double (nullable = false)\n",
      " |-- tip_amount: double (nullable = false)\n",
      " |-- tolls_amount: double (nullable = false)\n",
      " |-- improvement_surcharge: double (nullable = false)\n",
      " |-- total_amount: double (nullable = false)\n",
      " |-- congestion_surcharge: double (nullable = false)\n",
      " |-- airport_fee: double (nullable = false)\n",
      "\n",
      "🔄 Обрабатываю (16/45): yellow_tripdata_2024-02.parquet\n"
     ]
    },
    {
     "name": "stderr",
     "output_type": "stream",
     "text": [
      "                                                                                "
     ]
    },
    {
     "name": "stdout",
     "output_type": "stream",
     "text": [
      "✅ Стандартизировано: s3a://bronze/nyc-taxi-data/yellow_tripdata_2024-02.parquet -> s3a://silver/nyc-taxi-data/yellow_tripdata_2024-02.parquet\n",
      "📊 Схема после стандартизации:\n",
      "root\n",
      " |-- vendorid: integer (nullable = false)\n",
      " |-- tpep_pickup_datetime: timestamp_ntz (nullable = true)\n",
      " |-- tpep_dropoff_datetime: timestamp_ntz (nullable = true)\n",
      " |-- passenger_count: integer (nullable = false)\n",
      " |-- trip_distance: double (nullable = false)\n",
      " |-- ratecodeid: integer (nullable = false)\n",
      " |-- store_and_fwd_flag: string (nullable = true)\n",
      " |-- pulocationid: integer (nullable = false)\n",
      " |-- dolocationid: integer (nullable = false)\n",
      " |-- payment_type: integer (nullable = false)\n",
      " |-- fare_amount: double (nullable = false)\n",
      " |-- extra: double (nullable = false)\n",
      " |-- mta_tax: double (nullable = false)\n",
      " |-- tip_amount: double (nullable = false)\n",
      " |-- tolls_amount: double (nullable = false)\n",
      " |-- improvement_surcharge: double (nullable = false)\n",
      " |-- total_amount: double (nullable = false)\n",
      " |-- congestion_surcharge: double (nullable = false)\n",
      " |-- airport_fee: double (nullable = false)\n",
      "\n",
      "🔄 Обрабатываю (17/45): yellow_tripdata_2022-11.parquet\n"
     ]
    },
    {
     "name": "stderr",
     "output_type": "stream",
     "text": [
      "                                                                                "
     ]
    },
    {
     "name": "stdout",
     "output_type": "stream",
     "text": [
      "✅ Стандартизировано: s3a://bronze/nyc-taxi-data/yellow_tripdata_2022-11.parquet -> s3a://silver/nyc-taxi-data/yellow_tripdata_2022-11.parquet\n",
      "📊 Схема после стандартизации:\n",
      "root\n",
      " |-- vendorid: integer (nullable = false)\n",
      " |-- tpep_pickup_datetime: timestamp_ntz (nullable = true)\n",
      " |-- tpep_dropoff_datetime: timestamp_ntz (nullable = true)\n",
      " |-- passenger_count: integer (nullable = false)\n",
      " |-- trip_distance: double (nullable = false)\n",
      " |-- ratecodeid: integer (nullable = false)\n",
      " |-- store_and_fwd_flag: string (nullable = true)\n",
      " |-- pulocationid: integer (nullable = false)\n",
      " |-- dolocationid: integer (nullable = false)\n",
      " |-- payment_type: integer (nullable = false)\n",
      " |-- fare_amount: double (nullable = false)\n",
      " |-- extra: double (nullable = false)\n",
      " |-- mta_tax: double (nullable = false)\n",
      " |-- tip_amount: double (nullable = false)\n",
      " |-- tolls_amount: double (nullable = false)\n",
      " |-- improvement_surcharge: double (nullable = false)\n",
      " |-- total_amount: double (nullable = false)\n",
      " |-- congestion_surcharge: double (nullable = false)\n",
      " |-- airport_fee: double (nullable = false)\n",
      "\n",
      "🔄 Обрабатываю (18/45): yellow_tripdata_2022-08.parquet\n"
     ]
    },
    {
     "name": "stderr",
     "output_type": "stream",
     "text": [
      "                                                                                "
     ]
    },
    {
     "name": "stdout",
     "output_type": "stream",
     "text": [
      "✅ Стандартизировано: s3a://bronze/nyc-taxi-data/yellow_tripdata_2022-08.parquet -> s3a://silver/nyc-taxi-data/yellow_tripdata_2022-08.parquet\n",
      "📊 Схема после стандартизации:\n",
      "root\n",
      " |-- vendorid: integer (nullable = false)\n",
      " |-- tpep_pickup_datetime: timestamp_ntz (nullable = true)\n",
      " |-- tpep_dropoff_datetime: timestamp_ntz (nullable = true)\n",
      " |-- passenger_count: integer (nullable = false)\n",
      " |-- trip_distance: double (nullable = false)\n",
      " |-- ratecodeid: integer (nullable = false)\n",
      " |-- store_and_fwd_flag: string (nullable = true)\n",
      " |-- pulocationid: integer (nullable = false)\n",
      " |-- dolocationid: integer (nullable = false)\n",
      " |-- payment_type: integer (nullable = false)\n",
      " |-- fare_amount: double (nullable = false)\n",
      " |-- extra: double (nullable = false)\n",
      " |-- mta_tax: double (nullable = false)\n",
      " |-- tip_amount: double (nullable = false)\n",
      " |-- tolls_amount: double (nullable = false)\n",
      " |-- improvement_surcharge: double (nullable = false)\n",
      " |-- total_amount: double (nullable = false)\n",
      " |-- congestion_surcharge: double (nullable = false)\n",
      " |-- airport_fee: double (nullable = false)\n",
      "\n",
      "🔄 Обрабатываю (19/45): yellow_tripdata_2024-01.parquet\n"
     ]
    },
    {
     "name": "stderr",
     "output_type": "stream",
     "text": [
      "                                                                                "
     ]
    },
    {
     "name": "stdout",
     "output_type": "stream",
     "text": [
      "✅ Стандартизировано: s3a://bronze/nyc-taxi-data/yellow_tripdata_2024-01.parquet -> s3a://silver/nyc-taxi-data/yellow_tripdata_2024-01.parquet\n",
      "📊 Схема после стандартизации:\n",
      "root\n",
      " |-- vendorid: integer (nullable = false)\n",
      " |-- tpep_pickup_datetime: timestamp_ntz (nullable = true)\n",
      " |-- tpep_dropoff_datetime: timestamp_ntz (nullable = true)\n",
      " |-- passenger_count: integer (nullable = false)\n",
      " |-- trip_distance: double (nullable = false)\n",
      " |-- ratecodeid: integer (nullable = false)\n",
      " |-- store_and_fwd_flag: string (nullable = true)\n",
      " |-- pulocationid: integer (nullable = false)\n",
      " |-- dolocationid: integer (nullable = false)\n",
      " |-- payment_type: integer (nullable = false)\n",
      " |-- fare_amount: double (nullable = false)\n",
      " |-- extra: double (nullable = false)\n",
      " |-- mta_tax: double (nullable = false)\n",
      " |-- tip_amount: double (nullable = false)\n",
      " |-- tolls_amount: double (nullable = false)\n",
      " |-- improvement_surcharge: double (nullable = false)\n",
      " |-- total_amount: double (nullable = false)\n",
      " |-- congestion_surcharge: double (nullable = false)\n",
      " |-- airport_fee: double (nullable = false)\n",
      "\n",
      "🔄 Обрабатываю (20/45): yellow_tripdata_2023-09.parquet\n"
     ]
    },
    {
     "name": "stderr",
     "output_type": "stream",
     "text": [
      "                                                                                "
     ]
    },
    {
     "name": "stdout",
     "output_type": "stream",
     "text": [
      "✅ Стандартизировано: s3a://bronze/nyc-taxi-data/yellow_tripdata_2023-09.parquet -> s3a://silver/nyc-taxi-data/yellow_tripdata_2023-09.parquet\n",
      "📊 Схема после стандартизации:\n",
      "root\n",
      " |-- vendorid: integer (nullable = false)\n",
      " |-- tpep_pickup_datetime: timestamp_ntz (nullable = true)\n",
      " |-- tpep_dropoff_datetime: timestamp_ntz (nullable = true)\n",
      " |-- passenger_count: integer (nullable = false)\n",
      " |-- trip_distance: double (nullable = false)\n",
      " |-- ratecodeid: integer (nullable = false)\n",
      " |-- store_and_fwd_flag: string (nullable = true)\n",
      " |-- pulocationid: integer (nullable = false)\n",
      " |-- dolocationid: integer (nullable = false)\n",
      " |-- payment_type: integer (nullable = false)\n",
      " |-- fare_amount: double (nullable = false)\n",
      " |-- extra: double (nullable = false)\n",
      " |-- mta_tax: double (nullable = false)\n",
      " |-- tip_amount: double (nullable = false)\n",
      " |-- tolls_amount: double (nullable = false)\n",
      " |-- improvement_surcharge: double (nullable = false)\n",
      " |-- total_amount: double (nullable = false)\n",
      " |-- congestion_surcharge: double (nullable = false)\n",
      " |-- airport_fee: double (nullable = false)\n",
      "\n",
      "🔄 Обрабатываю (21/45): yellow_tripdata_2023-02.parquet\n"
     ]
    },
    {
     "name": "stderr",
     "output_type": "stream",
     "text": [
      "                                                                                "
     ]
    },
    {
     "name": "stdout",
     "output_type": "stream",
     "text": [
      "✅ Стандартизировано: s3a://bronze/nyc-taxi-data/yellow_tripdata_2023-02.parquet -> s3a://silver/nyc-taxi-data/yellow_tripdata_2023-02.parquet\n",
      "📊 Схема после стандартизации:\n",
      "root\n",
      " |-- vendorid: integer (nullable = false)\n",
      " |-- tpep_pickup_datetime: timestamp_ntz (nullable = true)\n",
      " |-- tpep_dropoff_datetime: timestamp_ntz (nullable = true)\n",
      " |-- passenger_count: integer (nullable = false)\n",
      " |-- trip_distance: double (nullable = false)\n",
      " |-- ratecodeid: integer (nullable = false)\n",
      " |-- store_and_fwd_flag: string (nullable = true)\n",
      " |-- pulocationid: integer (nullable = false)\n",
      " |-- dolocationid: integer (nullable = false)\n",
      " |-- payment_type: integer (nullable = false)\n",
      " |-- fare_amount: double (nullable = false)\n",
      " |-- extra: double (nullable = false)\n",
      " |-- mta_tax: double (nullable = false)\n",
      " |-- tip_amount: double (nullable = false)\n",
      " |-- tolls_amount: double (nullable = false)\n",
      " |-- improvement_surcharge: double (nullable = false)\n",
      " |-- total_amount: double (nullable = false)\n",
      " |-- congestion_surcharge: double (nullable = false)\n",
      " |-- airport_fee: double (nullable = false)\n",
      "\n",
      "🔄 Обрабатываю (22/45): yellow_tripdata_2022-01.parquet\n"
     ]
    },
    {
     "name": "stderr",
     "output_type": "stream",
     "text": [
      "                                                                                "
     ]
    },
    {
     "name": "stdout",
     "output_type": "stream",
     "text": [
      "✅ Стандартизировано: s3a://bronze/nyc-taxi-data/yellow_tripdata_2022-01.parquet -> s3a://silver/nyc-taxi-data/yellow_tripdata_2022-01.parquet\n",
      "📊 Схема после стандартизации:\n",
      "root\n",
      " |-- vendorid: integer (nullable = false)\n",
      " |-- tpep_pickup_datetime: timestamp_ntz (nullable = true)\n",
      " |-- tpep_dropoff_datetime: timestamp_ntz (nullable = true)\n",
      " |-- passenger_count: integer (nullable = false)\n",
      " |-- trip_distance: double (nullable = false)\n",
      " |-- ratecodeid: integer (nullable = false)\n",
      " |-- store_and_fwd_flag: string (nullable = true)\n",
      " |-- pulocationid: integer (nullable = false)\n",
      " |-- dolocationid: integer (nullable = false)\n",
      " |-- payment_type: integer (nullable = false)\n",
      " |-- fare_amount: double (nullable = false)\n",
      " |-- extra: double (nullable = false)\n",
      " |-- mta_tax: double (nullable = false)\n",
      " |-- tip_amount: double (nullable = false)\n",
      " |-- tolls_amount: double (nullable = false)\n",
      " |-- improvement_surcharge: double (nullable = false)\n",
      " |-- total_amount: double (nullable = false)\n",
      " |-- congestion_surcharge: double (nullable = false)\n",
      " |-- airport_fee: double (nullable = false)\n",
      "\n",
      "🔄 Обрабатываю (23/45): yellow_tripdata_2025-06.parquet\n"
     ]
    },
    {
     "name": "stderr",
     "output_type": "stream",
     "text": [
      "                                                                                "
     ]
    },
    {
     "name": "stdout",
     "output_type": "stream",
     "text": [
      "✅ Стандартизировано: s3a://bronze/nyc-taxi-data/yellow_tripdata_2025-06.parquet -> s3a://silver/nyc-taxi-data/yellow_tripdata_2025-06.parquet\n",
      "📊 Схема после стандартизации:\n",
      "root\n",
      " |-- vendorid: integer (nullable = false)\n",
      " |-- tpep_pickup_datetime: timestamp_ntz (nullable = true)\n",
      " |-- tpep_dropoff_datetime: timestamp_ntz (nullable = true)\n",
      " |-- passenger_count: integer (nullable = false)\n",
      " |-- trip_distance: double (nullable = false)\n",
      " |-- ratecodeid: integer (nullable = false)\n",
      " |-- store_and_fwd_flag: string (nullable = true)\n",
      " |-- pulocationid: integer (nullable = false)\n",
      " |-- dolocationid: integer (nullable = false)\n",
      " |-- payment_type: integer (nullable = false)\n",
      " |-- fare_amount: double (nullable = false)\n",
      " |-- extra: double (nullable = false)\n",
      " |-- mta_tax: double (nullable = false)\n",
      " |-- tip_amount: double (nullable = false)\n",
      " |-- tolls_amount: double (nullable = false)\n",
      " |-- improvement_surcharge: double (nullable = false)\n",
      " |-- total_amount: double (nullable = false)\n",
      " |-- congestion_surcharge: double (nullable = false)\n",
      " |-- airport_fee: double (nullable = false)\n",
      " |-- cbd_congestion_fee: double (nullable = false)\n",
      "\n",
      "🔄 Обрабатываю (24/45): yellow_tripdata_2025-03.parquet\n"
     ]
    },
    {
     "name": "stderr",
     "output_type": "stream",
     "text": [
      "                                                                                "
     ]
    },
    {
     "name": "stdout",
     "output_type": "stream",
     "text": [
      "✅ Стандартизировано: s3a://bronze/nyc-taxi-data/yellow_tripdata_2025-03.parquet -> s3a://silver/nyc-taxi-data/yellow_tripdata_2025-03.parquet\n",
      "📊 Схема после стандартизации:\n",
      "root\n",
      " |-- vendorid: integer (nullable = false)\n",
      " |-- tpep_pickup_datetime: timestamp_ntz (nullable = true)\n",
      " |-- tpep_dropoff_datetime: timestamp_ntz (nullable = true)\n",
      " |-- passenger_count: integer (nullable = false)\n",
      " |-- trip_distance: double (nullable = false)\n",
      " |-- ratecodeid: integer (nullable = false)\n",
      " |-- store_and_fwd_flag: string (nullable = true)\n",
      " |-- pulocationid: integer (nullable = false)\n",
      " |-- dolocationid: integer (nullable = false)\n",
      " |-- payment_type: integer (nullable = false)\n",
      " |-- fare_amount: double (nullable = false)\n",
      " |-- extra: double (nullable = false)\n",
      " |-- mta_tax: double (nullable = false)\n",
      " |-- tip_amount: double (nullable = false)\n",
      " |-- tolls_amount: double (nullable = false)\n",
      " |-- improvement_surcharge: double (nullable = false)\n",
      " |-- total_amount: double (nullable = false)\n",
      " |-- congestion_surcharge: double (nullable = false)\n",
      " |-- airport_fee: double (nullable = false)\n",
      " |-- cbd_congestion_fee: double (nullable = false)\n",
      "\n",
      "🔄 Обрабатываю (25/45): yellow_tripdata_2025-07.parquet\n"
     ]
    },
    {
     "name": "stderr",
     "output_type": "stream",
     "text": [
      "                                                                                "
     ]
    },
    {
     "name": "stdout",
     "output_type": "stream",
     "text": [
      "✅ Стандартизировано: s3a://bronze/nyc-taxi-data/yellow_tripdata_2025-07.parquet -> s3a://silver/nyc-taxi-data/yellow_tripdata_2025-07.parquet\n",
      "📊 Схема после стандартизации:\n",
      "root\n",
      " |-- vendorid: integer (nullable = false)\n",
      " |-- tpep_pickup_datetime: timestamp_ntz (nullable = true)\n",
      " |-- tpep_dropoff_datetime: timestamp_ntz (nullable = true)\n",
      " |-- passenger_count: integer (nullable = false)\n",
      " |-- trip_distance: double (nullable = false)\n",
      " |-- ratecodeid: integer (nullable = false)\n",
      " |-- store_and_fwd_flag: string (nullable = true)\n",
      " |-- pulocationid: integer (nullable = false)\n",
      " |-- dolocationid: integer (nullable = false)\n",
      " |-- payment_type: integer (nullable = false)\n",
      " |-- fare_amount: double (nullable = false)\n",
      " |-- extra: double (nullable = false)\n",
      " |-- mta_tax: double (nullable = false)\n",
      " |-- tip_amount: double (nullable = false)\n",
      " |-- tolls_amount: double (nullable = false)\n",
      " |-- improvement_surcharge: double (nullable = false)\n",
      " |-- total_amount: double (nullable = false)\n",
      " |-- congestion_surcharge: double (nullable = false)\n",
      " |-- airport_fee: double (nullable = false)\n",
      " |-- cbd_congestion_fee: double (nullable = false)\n",
      "\n",
      "🔄 Обрабатываю (26/45): yellow_tripdata_2024-12.parquet\n"
     ]
    },
    {
     "name": "stderr",
     "output_type": "stream",
     "text": [
      "                                                                                "
     ]
    },
    {
     "name": "stdout",
     "output_type": "stream",
     "text": [
      "✅ Стандартизировано: s3a://bronze/nyc-taxi-data/yellow_tripdata_2024-12.parquet -> s3a://silver/nyc-taxi-data/yellow_tripdata_2024-12.parquet\n",
      "📊 Схема после стандартизации:\n",
      "root\n",
      " |-- vendorid: integer (nullable = false)\n",
      " |-- tpep_pickup_datetime: timestamp_ntz (nullable = true)\n",
      " |-- tpep_dropoff_datetime: timestamp_ntz (nullable = true)\n",
      " |-- passenger_count: integer (nullable = false)\n",
      " |-- trip_distance: double (nullable = false)\n",
      " |-- ratecodeid: integer (nullable = false)\n",
      " |-- store_and_fwd_flag: string (nullable = true)\n",
      " |-- pulocationid: integer (nullable = false)\n",
      " |-- dolocationid: integer (nullable = false)\n",
      " |-- payment_type: integer (nullable = false)\n",
      " |-- fare_amount: double (nullable = false)\n",
      " |-- extra: double (nullable = false)\n",
      " |-- mta_tax: double (nullable = false)\n",
      " |-- tip_amount: double (nullable = false)\n",
      " |-- tolls_amount: double (nullable = false)\n",
      " |-- improvement_surcharge: double (nullable = false)\n",
      " |-- total_amount: double (nullable = false)\n",
      " |-- congestion_surcharge: double (nullable = false)\n",
      " |-- airport_fee: double (nullable = false)\n",
      "\n",
      "🔄 Обрабатываю (27/45): yellow_tripdata_2025-08.parquet\n"
     ]
    },
    {
     "name": "stderr",
     "output_type": "stream",
     "text": [
      "                                                                                "
     ]
    },
    {
     "name": "stdout",
     "output_type": "stream",
     "text": [
      "✅ Стандартизировано: s3a://bronze/nyc-taxi-data/yellow_tripdata_2025-08.parquet -> s3a://silver/nyc-taxi-data/yellow_tripdata_2025-08.parquet\n",
      "📊 Схема после стандартизации:\n",
      "root\n",
      " |-- vendorid: integer (nullable = false)\n",
      " |-- tpep_pickup_datetime: timestamp_ntz (nullable = true)\n",
      " |-- tpep_dropoff_datetime: timestamp_ntz (nullable = true)\n",
      " |-- passenger_count: integer (nullable = false)\n",
      " |-- trip_distance: double (nullable = false)\n",
      " |-- ratecodeid: integer (nullable = false)\n",
      " |-- store_and_fwd_flag: string (nullable = true)\n",
      " |-- pulocationid: integer (nullable = false)\n",
      " |-- dolocationid: integer (nullable = false)\n",
      " |-- payment_type: integer (nullable = false)\n",
      " |-- fare_amount: double (nullable = false)\n",
      " |-- extra: double (nullable = false)\n",
      " |-- mta_tax: double (nullable = false)\n",
      " |-- tip_amount: double (nullable = false)\n",
      " |-- tolls_amount: double (nullable = false)\n",
      " |-- improvement_surcharge: double (nullable = false)\n",
      " |-- total_amount: double (nullable = false)\n",
      " |-- congestion_surcharge: double (nullable = false)\n",
      " |-- airport_fee: double (nullable = false)\n",
      " |-- cbd_congestion_fee: double (nullable = false)\n",
      "\n",
      "🔄 Обрабатываю (28/45): yellow_tripdata_2024-03.parquet\n"
     ]
    },
    {
     "name": "stderr",
     "output_type": "stream",
     "text": [
      "                                                                                "
     ]
    },
    {
     "name": "stdout",
     "output_type": "stream",
     "text": [
      "✅ Стандартизировано: s3a://bronze/nyc-taxi-data/yellow_tripdata_2024-03.parquet -> s3a://silver/nyc-taxi-data/yellow_tripdata_2024-03.parquet\n",
      "📊 Схема после стандартизации:\n",
      "root\n",
      " |-- vendorid: integer (nullable = false)\n",
      " |-- tpep_pickup_datetime: timestamp_ntz (nullable = true)\n",
      " |-- tpep_dropoff_datetime: timestamp_ntz (nullable = true)\n",
      " |-- passenger_count: integer (nullable = false)\n",
      " |-- trip_distance: double (nullable = false)\n",
      " |-- ratecodeid: integer (nullable = false)\n",
      " |-- store_and_fwd_flag: string (nullable = true)\n",
      " |-- pulocationid: integer (nullable = false)\n",
      " |-- dolocationid: integer (nullable = false)\n",
      " |-- payment_type: integer (nullable = false)\n",
      " |-- fare_amount: double (nullable = false)\n",
      " |-- extra: double (nullable = false)\n",
      " |-- mta_tax: double (nullable = false)\n",
      " |-- tip_amount: double (nullable = false)\n",
      " |-- tolls_amount: double (nullable = false)\n",
      " |-- improvement_surcharge: double (nullable = false)\n",
      " |-- total_amount: double (nullable = false)\n",
      " |-- congestion_surcharge: double (nullable = false)\n",
      " |-- airport_fee: double (nullable = false)\n",
      "\n",
      "🔄 Обрабатываю (29/45): yellow_tripdata_2025-02.parquet\n"
     ]
    },
    {
     "name": "stderr",
     "output_type": "stream",
     "text": [
      "                                                                                "
     ]
    },
    {
     "name": "stdout",
     "output_type": "stream",
     "text": [
      "✅ Стандартизировано: s3a://bronze/nyc-taxi-data/yellow_tripdata_2025-02.parquet -> s3a://silver/nyc-taxi-data/yellow_tripdata_2025-02.parquet\n",
      "📊 Схема после стандартизации:\n",
      "root\n",
      " |-- vendorid: integer (nullable = false)\n",
      " |-- tpep_pickup_datetime: timestamp_ntz (nullable = true)\n",
      " |-- tpep_dropoff_datetime: timestamp_ntz (nullable = true)\n",
      " |-- passenger_count: integer (nullable = false)\n",
      " |-- trip_distance: double (nullable = false)\n",
      " |-- ratecodeid: integer (nullable = false)\n",
      " |-- store_and_fwd_flag: string (nullable = true)\n",
      " |-- pulocationid: integer (nullable = false)\n",
      " |-- dolocationid: integer (nullable = false)\n",
      " |-- payment_type: integer (nullable = false)\n",
      " |-- fare_amount: double (nullable = false)\n",
      " |-- extra: double (nullable = false)\n",
      " |-- mta_tax: double (nullable = false)\n",
      " |-- tip_amount: double (nullable = false)\n",
      " |-- tolls_amount: double (nullable = false)\n",
      " |-- improvement_surcharge: double (nullable = false)\n",
      " |-- total_amount: double (nullable = false)\n",
      " |-- congestion_surcharge: double (nullable = false)\n",
      " |-- airport_fee: double (nullable = false)\n",
      " |-- cbd_congestion_fee: double (nullable = false)\n",
      "\n",
      "🔄 Обрабатываю (30/45): yellow_tripdata_2024-06.parquet\n"
     ]
    },
    {
     "name": "stderr",
     "output_type": "stream",
     "text": [
      "                                                                                "
     ]
    },
    {
     "name": "stdout",
     "output_type": "stream",
     "text": [
      "✅ Стандартизировано: s3a://bronze/nyc-taxi-data/yellow_tripdata_2024-06.parquet -> s3a://silver/nyc-taxi-data/yellow_tripdata_2024-06.parquet\n",
      "📊 Схема после стандартизации:\n",
      "root\n",
      " |-- vendorid: integer (nullable = false)\n",
      " |-- tpep_pickup_datetime: timestamp_ntz (nullable = true)\n",
      " |-- tpep_dropoff_datetime: timestamp_ntz (nullable = true)\n",
      " |-- passenger_count: integer (nullable = false)\n",
      " |-- trip_distance: double (nullable = false)\n",
      " |-- ratecodeid: integer (nullable = false)\n",
      " |-- store_and_fwd_flag: string (nullable = true)\n",
      " |-- pulocationid: integer (nullable = false)\n",
      " |-- dolocationid: integer (nullable = false)\n",
      " |-- payment_type: integer (nullable = false)\n",
      " |-- fare_amount: double (nullable = false)\n",
      " |-- extra: double (nullable = false)\n",
      " |-- mta_tax: double (nullable = false)\n",
      " |-- tip_amount: double (nullable = false)\n",
      " |-- tolls_amount: double (nullable = false)\n",
      " |-- improvement_surcharge: double (nullable = false)\n",
      " |-- total_amount: double (nullable = false)\n",
      " |-- congestion_surcharge: double (nullable = false)\n",
      " |-- airport_fee: double (nullable = false)\n",
      "\n",
      "🔄 Обрабатываю (31/45): yellow_tripdata_2025-01.parquet\n"
     ]
    },
    {
     "name": "stderr",
     "output_type": "stream",
     "text": [
      "                                                                                "
     ]
    },
    {
     "name": "stdout",
     "output_type": "stream",
     "text": [
      "✅ Стандартизировано: s3a://bronze/nyc-taxi-data/yellow_tripdata_2025-01.parquet -> s3a://silver/nyc-taxi-data/yellow_tripdata_2025-01.parquet\n",
      "📊 Схема после стандартизации:\n",
      "root\n",
      " |-- vendorid: integer (nullable = false)\n",
      " |-- tpep_pickup_datetime: timestamp_ntz (nullable = true)\n",
      " |-- tpep_dropoff_datetime: timestamp_ntz (nullable = true)\n",
      " |-- passenger_count: integer (nullable = false)\n",
      " |-- trip_distance: double (nullable = false)\n",
      " |-- ratecodeid: integer (nullable = false)\n",
      " |-- store_and_fwd_flag: string (nullable = true)\n",
      " |-- pulocationid: integer (nullable = false)\n",
      " |-- dolocationid: integer (nullable = false)\n",
      " |-- payment_type: integer (nullable = false)\n",
      " |-- fare_amount: double (nullable = false)\n",
      " |-- extra: double (nullable = false)\n",
      " |-- mta_tax: double (nullable = false)\n",
      " |-- tip_amount: double (nullable = false)\n",
      " |-- tolls_amount: double (nullable = false)\n",
      " |-- improvement_surcharge: double (nullable = false)\n",
      " |-- total_amount: double (nullable = false)\n",
      " |-- congestion_surcharge: double (nullable = false)\n",
      " |-- airport_fee: double (nullable = false)\n",
      " |-- cbd_congestion_fee: double (nullable = false)\n",
      "\n",
      "🔄 Обрабатываю (32/45): yellow_tripdata_2023-05.parquet\n"
     ]
    },
    {
     "name": "stderr",
     "output_type": "stream",
     "text": [
      "                                                                                "
     ]
    },
    {
     "name": "stdout",
     "output_type": "stream",
     "text": [
      "✅ Стандартизировано: s3a://bronze/nyc-taxi-data/yellow_tripdata_2023-05.parquet -> s3a://silver/nyc-taxi-data/yellow_tripdata_2023-05.parquet\n",
      "📊 Схема после стандартизации:\n",
      "root\n",
      " |-- vendorid: integer (nullable = false)\n",
      " |-- tpep_pickup_datetime: timestamp_ntz (nullable = true)\n",
      " |-- tpep_dropoff_datetime: timestamp_ntz (nullable = true)\n",
      " |-- passenger_count: integer (nullable = false)\n",
      " |-- trip_distance: double (nullable = false)\n",
      " |-- ratecodeid: integer (nullable = false)\n",
      " |-- store_and_fwd_flag: string (nullable = true)\n",
      " |-- pulocationid: integer (nullable = false)\n",
      " |-- dolocationid: integer (nullable = false)\n",
      " |-- payment_type: integer (nullable = false)\n",
      " |-- fare_amount: double (nullable = false)\n",
      " |-- extra: double (nullable = false)\n",
      " |-- mta_tax: double (nullable = false)\n",
      " |-- tip_amount: double (nullable = false)\n",
      " |-- tolls_amount: double (nullable = false)\n",
      " |-- improvement_surcharge: double (nullable = false)\n",
      " |-- total_amount: double (nullable = false)\n",
      " |-- congestion_surcharge: double (nullable = false)\n",
      " |-- airport_fee: double (nullable = false)\n",
      "\n",
      "🔄 Обрабатываю (33/45): yellow_tripdata_2022-10.parquet\n"
     ]
    },
    {
     "name": "stderr",
     "output_type": "stream",
     "text": [
      "                                                                                "
     ]
    },
    {
     "name": "stdout",
     "output_type": "stream",
     "text": [
      "✅ Стандартизировано: s3a://bronze/nyc-taxi-data/yellow_tripdata_2022-10.parquet -> s3a://silver/nyc-taxi-data/yellow_tripdata_2022-10.parquet\n",
      "📊 Схема после стандартизации:\n",
      "root\n",
      " |-- vendorid: integer (nullable = false)\n",
      " |-- tpep_pickup_datetime: timestamp_ntz (nullable = true)\n",
      " |-- tpep_dropoff_datetime: timestamp_ntz (nullable = true)\n",
      " |-- passenger_count: integer (nullable = false)\n",
      " |-- trip_distance: double (nullable = false)\n",
      " |-- ratecodeid: integer (nullable = false)\n",
      " |-- store_and_fwd_flag: string (nullable = true)\n",
      " |-- pulocationid: integer (nullable = false)\n",
      " |-- dolocationid: integer (nullable = false)\n",
      " |-- payment_type: integer (nullable = false)\n",
      " |-- fare_amount: double (nullable = false)\n",
      " |-- extra: double (nullable = false)\n",
      " |-- mta_tax: double (nullable = false)\n",
      " |-- tip_amount: double (nullable = false)\n",
      " |-- tolls_amount: double (nullable = false)\n",
      " |-- improvement_surcharge: double (nullable = false)\n",
      " |-- total_amount: double (nullable = false)\n",
      " |-- congestion_surcharge: double (nullable = false)\n",
      " |-- airport_fee: double (nullable = false)\n",
      "\n",
      "🔄 Обрабатываю (34/45): yellow_tripdata_2023-03.parquet\n"
     ]
    },
    {
     "name": "stderr",
     "output_type": "stream",
     "text": [
      "                                                                                "
     ]
    },
    {
     "name": "stdout",
     "output_type": "stream",
     "text": [
      "✅ Стандартизировано: s3a://bronze/nyc-taxi-data/yellow_tripdata_2023-03.parquet -> s3a://silver/nyc-taxi-data/yellow_tripdata_2023-03.parquet\n",
      "📊 Схема после стандартизации:\n",
      "root\n",
      " |-- vendorid: integer (nullable = false)\n",
      " |-- tpep_pickup_datetime: timestamp_ntz (nullable = true)\n",
      " |-- tpep_dropoff_datetime: timestamp_ntz (nullable = true)\n",
      " |-- passenger_count: integer (nullable = false)\n",
      " |-- trip_distance: double (nullable = false)\n",
      " |-- ratecodeid: integer (nullable = false)\n",
      " |-- store_and_fwd_flag: string (nullable = true)\n",
      " |-- pulocationid: integer (nullable = false)\n",
      " |-- dolocationid: integer (nullable = false)\n",
      " |-- payment_type: integer (nullable = false)\n",
      " |-- fare_amount: double (nullable = false)\n",
      " |-- extra: double (nullable = false)\n",
      " |-- mta_tax: double (nullable = false)\n",
      " |-- tip_amount: double (nullable = false)\n",
      " |-- tolls_amount: double (nullable = false)\n",
      " |-- improvement_surcharge: double (nullable = false)\n",
      " |-- total_amount: double (nullable = false)\n",
      " |-- congestion_surcharge: double (nullable = false)\n",
      " |-- airport_fee: double (nullable = false)\n",
      "\n",
      "🔄 Обрабатываю (35/45): yellow_tripdata_2023-12.parquet\n"
     ]
    },
    {
     "name": "stderr",
     "output_type": "stream",
     "text": [
      "                                                                                "
     ]
    },
    {
     "name": "stdout",
     "output_type": "stream",
     "text": [
      "✅ Стандартизировано: s3a://bronze/nyc-taxi-data/yellow_tripdata_2023-12.parquet -> s3a://silver/nyc-taxi-data/yellow_tripdata_2023-12.parquet\n",
      "📊 Схема после стандартизации:\n",
      "root\n",
      " |-- vendorid: integer (nullable = false)\n",
      " |-- tpep_pickup_datetime: timestamp_ntz (nullable = true)\n",
      " |-- tpep_dropoff_datetime: timestamp_ntz (nullable = true)\n",
      " |-- passenger_count: integer (nullable = false)\n",
      " |-- trip_distance: double (nullable = false)\n",
      " |-- ratecodeid: integer (nullable = false)\n",
      " |-- store_and_fwd_flag: string (nullable = true)\n",
      " |-- pulocationid: integer (nullable = false)\n",
      " |-- dolocationid: integer (nullable = false)\n",
      " |-- payment_type: integer (nullable = false)\n",
      " |-- fare_amount: double (nullable = false)\n",
      " |-- extra: double (nullable = false)\n",
      " |-- mta_tax: double (nullable = false)\n",
      " |-- tip_amount: double (nullable = false)\n",
      " |-- tolls_amount: double (nullable = false)\n",
      " |-- improvement_surcharge: double (nullable = false)\n",
      " |-- total_amount: double (nullable = false)\n",
      " |-- congestion_surcharge: double (nullable = false)\n",
      " |-- airport_fee: double (nullable = false)\n",
      "\n",
      "🔄 Обрабатываю (36/45): yellow_tripdata_2023-06.parquet\n"
     ]
    },
    {
     "name": "stderr",
     "output_type": "stream",
     "text": [
      "                                                                                "
     ]
    },
    {
     "name": "stdout",
     "output_type": "stream",
     "text": [
      "✅ Стандартизировано: s3a://bronze/nyc-taxi-data/yellow_tripdata_2023-06.parquet -> s3a://silver/nyc-taxi-data/yellow_tripdata_2023-06.parquet\n",
      "📊 Схема после стандартизации:\n",
      "root\n",
      " |-- vendorid: integer (nullable = false)\n",
      " |-- tpep_pickup_datetime: timestamp_ntz (nullable = true)\n",
      " |-- tpep_dropoff_datetime: timestamp_ntz (nullable = true)\n",
      " |-- passenger_count: integer (nullable = false)\n",
      " |-- trip_distance: double (nullable = false)\n",
      " |-- ratecodeid: integer (nullable = false)\n",
      " |-- store_and_fwd_flag: string (nullable = true)\n",
      " |-- pulocationid: integer (nullable = false)\n",
      " |-- dolocationid: integer (nullable = false)\n",
      " |-- payment_type: integer (nullable = false)\n",
      " |-- fare_amount: double (nullable = false)\n",
      " |-- extra: double (nullable = false)\n",
      " |-- mta_tax: double (nullable = false)\n",
      " |-- tip_amount: double (nullable = false)\n",
      " |-- tolls_amount: double (nullable = false)\n",
      " |-- improvement_surcharge: double (nullable = false)\n",
      " |-- total_amount: double (nullable = false)\n",
      " |-- congestion_surcharge: double (nullable = false)\n",
      " |-- airport_fee: double (nullable = false)\n",
      "\n",
      "🔄 Обрабатываю (37/45): yellow_tripdata_2022-04.parquet\n"
     ]
    },
    {
     "name": "stderr",
     "output_type": "stream",
     "text": [
      "                                                                                "
     ]
    },
    {
     "name": "stdout",
     "output_type": "stream",
     "text": [
      "✅ Стандартизировано: s3a://bronze/nyc-taxi-data/yellow_tripdata_2022-04.parquet -> s3a://silver/nyc-taxi-data/yellow_tripdata_2022-04.parquet\n",
      "📊 Схема после стандартизации:\n",
      "root\n",
      " |-- vendorid: integer (nullable = false)\n",
      " |-- tpep_pickup_datetime: timestamp_ntz (nullable = true)\n",
      " |-- tpep_dropoff_datetime: timestamp_ntz (nullable = true)\n",
      " |-- passenger_count: integer (nullable = false)\n",
      " |-- trip_distance: double (nullable = false)\n",
      " |-- ratecodeid: integer (nullable = false)\n",
      " |-- store_and_fwd_flag: string (nullable = true)\n",
      " |-- pulocationid: integer (nullable = false)\n",
      " |-- dolocationid: integer (nullable = false)\n",
      " |-- payment_type: integer (nullable = false)\n",
      " |-- fare_amount: double (nullable = false)\n",
      " |-- extra: double (nullable = false)\n",
      " |-- mta_tax: double (nullable = false)\n",
      " |-- tip_amount: double (nullable = false)\n",
      " |-- tolls_amount: double (nullable = false)\n",
      " |-- improvement_surcharge: double (nullable = false)\n",
      " |-- total_amount: double (nullable = false)\n",
      " |-- congestion_surcharge: double (nullable = false)\n",
      " |-- airport_fee: double (nullable = false)\n",
      "\n",
      "🔄 Обрабатываю (38/45): yellow_tripdata_2023-04.parquet\n"
     ]
    },
    {
     "name": "stderr",
     "output_type": "stream",
     "text": [
      "                                                                                "
     ]
    },
    {
     "name": "stdout",
     "output_type": "stream",
     "text": [
      "✅ Стандартизировано: s3a://bronze/nyc-taxi-data/yellow_tripdata_2023-04.parquet -> s3a://silver/nyc-taxi-data/yellow_tripdata_2023-04.parquet\n",
      "📊 Схема после стандартизации:\n",
      "root\n",
      " |-- vendorid: integer (nullable = false)\n",
      " |-- tpep_pickup_datetime: timestamp_ntz (nullable = true)\n",
      " |-- tpep_dropoff_datetime: timestamp_ntz (nullable = true)\n",
      " |-- passenger_count: integer (nullable = false)\n",
      " |-- trip_distance: double (nullable = false)\n",
      " |-- ratecodeid: integer (nullable = false)\n",
      " |-- store_and_fwd_flag: string (nullable = true)\n",
      " |-- pulocationid: integer (nullable = false)\n",
      " |-- dolocationid: integer (nullable = false)\n",
      " |-- payment_type: integer (nullable = false)\n",
      " |-- fare_amount: double (nullable = false)\n",
      " |-- extra: double (nullable = false)\n",
      " |-- mta_tax: double (nullable = false)\n",
      " |-- tip_amount: double (nullable = false)\n",
      " |-- tolls_amount: double (nullable = false)\n",
      " |-- improvement_surcharge: double (nullable = false)\n",
      " |-- total_amount: double (nullable = false)\n",
      " |-- congestion_surcharge: double (nullable = false)\n",
      " |-- airport_fee: double (nullable = false)\n",
      "\n",
      "🔄 Обрабатываю (39/45): yellow_tripdata_2022-12.parquet\n"
     ]
    },
    {
     "name": "stderr",
     "output_type": "stream",
     "text": [
      "                                                                                "
     ]
    },
    {
     "name": "stdout",
     "output_type": "stream",
     "text": [
      "✅ Стандартизировано: s3a://bronze/nyc-taxi-data/yellow_tripdata_2022-12.parquet -> s3a://silver/nyc-taxi-data/yellow_tripdata_2022-12.parquet\n",
      "📊 Схема после стандартизации:\n",
      "root\n",
      " |-- vendorid: integer (nullable = false)\n",
      " |-- tpep_pickup_datetime: timestamp_ntz (nullable = true)\n",
      " |-- tpep_dropoff_datetime: timestamp_ntz (nullable = true)\n",
      " |-- passenger_count: integer (nullable = false)\n",
      " |-- trip_distance: double (nullable = false)\n",
      " |-- ratecodeid: integer (nullable = false)\n",
      " |-- store_and_fwd_flag: string (nullable = true)\n",
      " |-- pulocationid: integer (nullable = false)\n",
      " |-- dolocationid: integer (nullable = false)\n",
      " |-- payment_type: integer (nullable = false)\n",
      " |-- fare_amount: double (nullable = false)\n",
      " |-- extra: double (nullable = false)\n",
      " |-- mta_tax: double (nullable = false)\n",
      " |-- tip_amount: double (nullable = false)\n",
      " |-- tolls_amount: double (nullable = false)\n",
      " |-- improvement_surcharge: double (nullable = false)\n",
      " |-- total_amount: double (nullable = false)\n",
      " |-- congestion_surcharge: double (nullable = false)\n",
      " |-- airport_fee: double (nullable = false)\n",
      "\n",
      "🔄 Обрабатываю (40/45): yellow_tripdata_2022-09.parquet\n"
     ]
    },
    {
     "name": "stderr",
     "output_type": "stream",
     "text": [
      "                                                                                "
     ]
    },
    {
     "name": "stdout",
     "output_type": "stream",
     "text": [
      "✅ Стандартизировано: s3a://bronze/nyc-taxi-data/yellow_tripdata_2022-09.parquet -> s3a://silver/nyc-taxi-data/yellow_tripdata_2022-09.parquet\n",
      "📊 Схема после стандартизации:\n",
      "root\n",
      " |-- vendorid: integer (nullable = false)\n",
      " |-- tpep_pickup_datetime: timestamp_ntz (nullable = true)\n",
      " |-- tpep_dropoff_datetime: timestamp_ntz (nullable = true)\n",
      " |-- passenger_count: integer (nullable = false)\n",
      " |-- trip_distance: double (nullable = false)\n",
      " |-- ratecodeid: integer (nullable = false)\n",
      " |-- store_and_fwd_flag: string (nullable = true)\n",
      " |-- pulocationid: integer (nullable = false)\n",
      " |-- dolocationid: integer (nullable = false)\n",
      " |-- payment_type: integer (nullable = false)\n",
      " |-- fare_amount: double (nullable = false)\n",
      " |-- extra: double (nullable = false)\n",
      " |-- mta_tax: double (nullable = false)\n",
      " |-- tip_amount: double (nullable = false)\n",
      " |-- tolls_amount: double (nullable = false)\n",
      " |-- improvement_surcharge: double (nullable = false)\n",
      " |-- total_amount: double (nullable = false)\n",
      " |-- congestion_surcharge: double (nullable = false)\n",
      " |-- airport_fee: double (nullable = false)\n",
      "\n",
      "🔄 Обрабатываю (41/45): yellow_tripdata_2022-07.parquet\n"
     ]
    },
    {
     "name": "stderr",
     "output_type": "stream",
     "text": [
      "                                                                                "
     ]
    },
    {
     "name": "stdout",
     "output_type": "stream",
     "text": [
      "✅ Стандартизировано: s3a://bronze/nyc-taxi-data/yellow_tripdata_2022-07.parquet -> s3a://silver/nyc-taxi-data/yellow_tripdata_2022-07.parquet\n",
      "📊 Схема после стандартизации:\n",
      "root\n",
      " |-- vendorid: integer (nullable = false)\n",
      " |-- tpep_pickup_datetime: timestamp_ntz (nullable = true)\n",
      " |-- tpep_dropoff_datetime: timestamp_ntz (nullable = true)\n",
      " |-- passenger_count: integer (nullable = false)\n",
      " |-- trip_distance: double (nullable = false)\n",
      " |-- ratecodeid: integer (nullable = false)\n",
      " |-- store_and_fwd_flag: string (nullable = true)\n",
      " |-- pulocationid: integer (nullable = false)\n",
      " |-- dolocationid: integer (nullable = false)\n",
      " |-- payment_type: integer (nullable = false)\n",
      " |-- fare_amount: double (nullable = false)\n",
      " |-- extra: double (nullable = false)\n",
      " |-- mta_tax: double (nullable = false)\n",
      " |-- tip_amount: double (nullable = false)\n",
      " |-- tolls_amount: double (nullable = false)\n",
      " |-- improvement_surcharge: double (nullable = false)\n",
      " |-- total_amount: double (nullable = false)\n",
      " |-- congestion_surcharge: double (nullable = false)\n",
      " |-- airport_fee: double (nullable = false)\n",
      "\n",
      "🔄 Обрабатываю (42/45): yellow_tripdata_2023-08.parquet\n"
     ]
    },
    {
     "name": "stderr",
     "output_type": "stream",
     "text": [
      "                                                                                "
     ]
    },
    {
     "name": "stdout",
     "output_type": "stream",
     "text": [
      "✅ Стандартизировано: s3a://bronze/nyc-taxi-data/yellow_tripdata_2023-08.parquet -> s3a://silver/nyc-taxi-data/yellow_tripdata_2023-08.parquet\n",
      "📊 Схема после стандартизации:\n",
      "root\n",
      " |-- vendorid: integer (nullable = false)\n",
      " |-- tpep_pickup_datetime: timestamp_ntz (nullable = true)\n",
      " |-- tpep_dropoff_datetime: timestamp_ntz (nullable = true)\n",
      " |-- passenger_count: integer (nullable = false)\n",
      " |-- trip_distance: double (nullable = false)\n",
      " |-- ratecodeid: integer (nullable = false)\n",
      " |-- store_and_fwd_flag: string (nullable = true)\n",
      " |-- pulocationid: integer (nullable = false)\n",
      " |-- dolocationid: integer (nullable = false)\n",
      " |-- payment_type: integer (nullable = false)\n",
      " |-- fare_amount: double (nullable = false)\n",
      " |-- extra: double (nullable = false)\n",
      " |-- mta_tax: double (nullable = false)\n",
      " |-- tip_amount: double (nullable = false)\n",
      " |-- tolls_amount: double (nullable = false)\n",
      " |-- improvement_surcharge: double (nullable = false)\n",
      " |-- total_amount: double (nullable = false)\n",
      " |-- congestion_surcharge: double (nullable = false)\n",
      " |-- airport_fee: double (nullable = false)\n",
      "\n",
      "🔄 Обрабатываю (43/45): yellow_tripdata_2023-07.parquet\n"
     ]
    },
    {
     "name": "stderr",
     "output_type": "stream",
     "text": [
      "                                                                                "
     ]
    },
    {
     "name": "stdout",
     "output_type": "stream",
     "text": [
      "✅ Стандартизировано: s3a://bronze/nyc-taxi-data/yellow_tripdata_2023-07.parquet -> s3a://silver/nyc-taxi-data/yellow_tripdata_2023-07.parquet\n",
      "📊 Схема после стандартизации:\n",
      "root\n",
      " |-- vendorid: integer (nullable = false)\n",
      " |-- tpep_pickup_datetime: timestamp_ntz (nullable = true)\n",
      " |-- tpep_dropoff_datetime: timestamp_ntz (nullable = true)\n",
      " |-- passenger_count: integer (nullable = false)\n",
      " |-- trip_distance: double (nullable = false)\n",
      " |-- ratecodeid: integer (nullable = false)\n",
      " |-- store_and_fwd_flag: string (nullable = true)\n",
      " |-- pulocationid: integer (nullable = false)\n",
      " |-- dolocationid: integer (nullable = false)\n",
      " |-- payment_type: integer (nullable = false)\n",
      " |-- fare_amount: double (nullable = false)\n",
      " |-- extra: double (nullable = false)\n",
      " |-- mta_tax: double (nullable = false)\n",
      " |-- tip_amount: double (nullable = false)\n",
      " |-- tolls_amount: double (nullable = false)\n",
      " |-- improvement_surcharge: double (nullable = false)\n",
      " |-- total_amount: double (nullable = false)\n",
      " |-- congestion_surcharge: double (nullable = false)\n",
      " |-- airport_fee: double (nullable = false)\n",
      "\n",
      "🔄 Обрабатываю (44/45): yellow_tripdata_2022-02.parquet\n"
     ]
    },
    {
     "name": "stderr",
     "output_type": "stream",
     "text": [
      "                                                                                "
     ]
    },
    {
     "name": "stdout",
     "output_type": "stream",
     "text": [
      "✅ Стандартизировано: s3a://bronze/nyc-taxi-data/yellow_tripdata_2022-02.parquet -> s3a://silver/nyc-taxi-data/yellow_tripdata_2022-02.parquet\n",
      "📊 Схема после стандартизации:\n",
      "root\n",
      " |-- vendorid: integer (nullable = false)\n",
      " |-- tpep_pickup_datetime: timestamp_ntz (nullable = true)\n",
      " |-- tpep_dropoff_datetime: timestamp_ntz (nullable = true)\n",
      " |-- passenger_count: integer (nullable = false)\n",
      " |-- trip_distance: double (nullable = false)\n",
      " |-- ratecodeid: integer (nullable = false)\n",
      " |-- store_and_fwd_flag: string (nullable = true)\n",
      " |-- pulocationid: integer (nullable = false)\n",
      " |-- dolocationid: integer (nullable = false)\n",
      " |-- payment_type: integer (nullable = false)\n",
      " |-- fare_amount: double (nullable = false)\n",
      " |-- extra: double (nullable = false)\n",
      " |-- mta_tax: double (nullable = false)\n",
      " |-- tip_amount: double (nullable = false)\n",
      " |-- tolls_amount: double (nullable = false)\n",
      " |-- improvement_surcharge: double (nullable = false)\n",
      " |-- total_amount: double (nullable = false)\n",
      " |-- congestion_surcharge: double (nullable = false)\n",
      " |-- airport_fee: double (nullable = false)\n",
      "\n",
      "🔄 Обрабатываю (45/45): yellow_tripdata_2023-01.parquet\n"
     ]
    },
    {
     "name": "stderr",
     "output_type": "stream",
     "text": [
      "[Stage 367:==================================================>     (9 + 1) / 10]"
     ]
    },
    {
     "name": "stdout",
     "output_type": "stream",
     "text": [
      "✅ Стандартизировано: s3a://bronze/nyc-taxi-data/yellow_tripdata_2023-01.parquet -> s3a://silver/nyc-taxi-data/yellow_tripdata_2023-01.parquet\n",
      "📊 Схема после стандартизации:\n",
      "root\n",
      " |-- vendorid: integer (nullable = false)\n",
      " |-- tpep_pickup_datetime: timestamp_ntz (nullable = true)\n",
      " |-- tpep_dropoff_datetime: timestamp_ntz (nullable = true)\n",
      " |-- passenger_count: integer (nullable = false)\n",
      " |-- trip_distance: double (nullable = false)\n",
      " |-- ratecodeid: integer (nullable = false)\n",
      " |-- store_and_fwd_flag: string (nullable = true)\n",
      " |-- pulocationid: integer (nullable = false)\n",
      " |-- dolocationid: integer (nullable = false)\n",
      " |-- payment_type: integer (nullable = false)\n",
      " |-- fare_amount: double (nullable = false)\n",
      " |-- extra: double (nullable = false)\n",
      " |-- mta_tax: double (nullable = false)\n",
      " |-- tip_amount: double (nullable = false)\n",
      " |-- tolls_amount: double (nullable = false)\n",
      " |-- improvement_surcharge: double (nullable = false)\n",
      " |-- total_amount: double (nullable = false)\n",
      " |-- congestion_surcharge: double (nullable = false)\n",
      " |-- airport_fee: double (nullable = false)\n",
      "\n",
      "🎉 Все файлы обработаны!\n",
      "Время выполнения: 125.6914 секунд\n"
     ]
    },
    {
     "name": "stderr",
     "output_type": "stream",
     "text": [
      "                                                                                "
     ]
    }
   ],
   "source": [
    "start_time = time.time()\n",
    "\n",
    "# Запускаем обработку всех файлов\n",
    "process_all_nyc_taxi_files()\n",
    "\n",
    "end_time = time.time()\n",
    "execution_time = end_time - start_time\n",
    "print(f\"Время выполнения: {execution_time:.4f} секунд\")"
   ]
  },
  {
   "cell_type": "code",
   "execution_count": 122,
   "id": "34201347-4586-49ac-a845-5df970dca7dd",
   "metadata": {},
   "outputs": [
    {
     "name": "stdout",
     "output_type": "stream",
     "text": [
      "Время выполнения: 0.0000 секунд\n"
     ]
    }
   ],
   "source": [
    "import time\n",
    "\n",
    "start_time = time.time()\n",
    "\n",
    "\n",
    "end_time = time.time()\n",
    "execution_time = end_time - start_time\n",
    "\n",
    "print(f\"Время выполнения: {execution_time:.4f} секунд\")\n"
   ]
  },
  {
   "cell_type": "code",
   "execution_count": 119,
   "id": "fd99e9b8-4532-4236-bb35-05bcb5b777e6",
   "metadata": {},
   "outputs": [
    {
     "name": "stderr",
     "output_type": "stream",
     "text": [
      "25/10/31 20:03:32 WARN HiveConf: HiveConf of name hive.stats.jdbc.timeout does not exist\n",
      "25/10/31 20:03:32 WARN HiveConf: HiveConf of name hive.stats.retries.wait does not exist\n",
      "25/10/31 20:03:36 WARN ObjectStore: Version information not found in metastore. hive.metastore.schema.verification is not enabled so recording the schema version 2.3.0\n",
      "25/10/31 20:03:36 WARN ObjectStore: setMetaStoreSchemaVersion called but recording version is disabled: version = 2.3.0, comment = Set by MetaStore UNKNOWN@172.18.0.8\n",
      "25/10/31 20:03:36 WARN ObjectStore: Failed to get database default, returning NoSuchObjectException\n",
      "25/10/31 20:03:36 WARN ObjectStore: Failed to get database global_temp, returning NoSuchObjectException\n",
      "25/10/31 20:03:36 WARN ObjectStore: Failed to get database parquet, returning NoSuchObjectException\n",
      "                                                                                "
     ]
    }
   ],
   "source": [
    "bronze_files = spark.sql(f\"\"\"\n",
    "    SELECT path \n",
    "    FROM (\n",
    "        SELECT input_file_name() as path \n",
    "        FROM parquet.`s3a://bronze/nyc-taxi-data/`\n",
    "    ) \n",
    "    GROUP BY path\n",
    "\"\"\").collect()"
   ]
  },
  {
   "cell_type": "code",
   "execution_count": 24,
   "id": "0b2ef617-3ee8-4f3b-8627-a8f951c0d6b2",
   "metadata": {},
   "outputs": [],
   "source": [
    "# Конвертируем в Pandas для красивого отображения\n",
    "import pandas as pd\n",
    "\n",
    "def show_schema_pandas(df):\n",
    "    schema_info = []\n",
    "    for field in df.schema.fields:\n",
    "        schema_info.append({\n",
    "            'Column': field.name,\n",
    "            'Type': field.dataType.simpleString(),\n",
    "            'Nullable': field.nullable,\n",
    "            'Metadata': field.metadata\n",
    "        })\n",
    "    \n",
    "    schema_pd = pd.DataFrame(schema_info)\n",
    "    print(schema_pd)"
   ]
  },
  {
   "cell_type": "code",
   "execution_count": 114,
   "id": "20806d6e-ff73-4979-bde8-d6df8714cad9",
   "metadata": {},
   "outputs": [
    {
     "name": "stdout",
     "output_type": "stream",
     "text": [
      "                   Column           Type  Nullable Metadata\n",
      "0                VendorID         bigint      True       {}\n",
      "1    tpep_pickup_datetime  timestamp_ntz      True       {}\n",
      "2   tpep_dropoff_datetime  timestamp_ntz      True       {}\n",
      "3         passenger_count         double      True       {}\n",
      "4           trip_distance         double      True       {}\n",
      "5              RatecodeID         double      True       {}\n",
      "6      store_and_fwd_flag         string      True       {}\n",
      "7            PULocationID         bigint      True       {}\n",
      "8            DOLocationID         bigint      True       {}\n",
      "9            payment_type         bigint      True       {}\n",
      "10            fare_amount         double      True       {}\n",
      "11                  extra         double      True       {}\n",
      "12                mta_tax         double      True       {}\n",
      "13             tip_amount         double      True       {}\n",
      "14           tolls_amount         double      True       {}\n",
      "15  improvement_surcharge         double      True       {}\n",
      "16           total_amount         double      True       {}\n",
      "17   congestion_surcharge         double      True       {}\n",
      "18            airport_fee         double      True       {}\n"
     ]
    }
   ],
   "source": [
    "show_schema_pandas(df_2023_01)"
   ]
  },
  {
   "cell_type": "code",
   "execution_count": 118,
   "id": "6d763935-2e1e-4f50-b60f-4ef68247925d",
   "metadata": {},
   "outputs": [
    {
     "name": "stdout",
     "output_type": "stream",
     "text": [
      "                   Column           Type  Nullable Metadata\n",
      "0                vendorid            int      True       {}\n",
      "1    tpep_pickup_datetime  timestamp_ntz      True       {}\n",
      "2   tpep_dropoff_datetime  timestamp_ntz      True       {}\n",
      "3         passenger_count            int      True       {}\n",
      "4           trip_distance         double      True       {}\n",
      "5              ratecodeid            int      True       {}\n",
      "6      store_and_fwd_flag         string      True       {}\n",
      "7            pulocationid            int      True       {}\n",
      "8            dolocationid            int      True       {}\n",
      "9            payment_type            int      True       {}\n",
      "10            fare_amount         double      True       {}\n",
      "11                  extra         double      True       {}\n",
      "12                mta_tax         double      True       {}\n",
      "13             tip_amount         double      True       {}\n",
      "14           tolls_amount         double      True       {}\n",
      "15  improvement_surcharge         double      True       {}\n",
      "16           total_amount         double      True       {}\n",
      "17   congestion_surcharge         double      True       {}\n",
      "18            airport_fee         double      True       {}\n"
     ]
    }
   ],
   "source": [
    "show_schema_pandas(df_2023_01)"
   ]
  },
  {
   "cell_type": "code",
   "execution_count": null,
   "id": "d0fa1d6e-835c-4b7a-8913-471a3d406250",
   "metadata": {},
   "outputs": [],
   "source": [
    "show_schema_pandas(df_2025_01)"
   ]
  },
  {
   "cell_type": "code",
   "execution_count": null,
   "id": "04596b77-64d9-4c02-901a-4bf2922e7d61",
   "metadata": {},
   "outputs": [],
   "source": [
    "# Просто выводим схемы файлов для визуального сравнения\n",
    "years = ['2023', '2024', '2025']\n",
    "\n",
    "for year in years:\n",
    "    print(f\"\\n{'='*20} {year} {'='*20}\")\n",
    "    try:\n",
    "        df = spark.read.parquet(f\"s3a://bronze/nyc-taxi-data/yellow_tripdata_{year}-01.parquet\")\n",
    "        df.printSchema()\n",
    "    except Exception as e:\n",
    "        print(f\"Ошибка: {e}\")"
   ]
  },
  {
   "cell_type": "markdown",
   "id": "63900128-e92e-4844-ba67-891a229be6d4",
   "metadata": {},
   "source": [
    "Отличная идея! Это правильный подход ETL - подготовить данные на уровне Silver. \n",
    "\n",
    "Вот обработчик:\n",
    "\n",
    "```python\n",
    "from pyspark.sql import functions as F\n",
    "from pyspark.sql.types import DoubleType, IntegerType\n",
    "\n",
    "def standardize_nyc_taxi_data(input_path, output_path):\n",
    "    \"\"\"\n",
    "    Стандартизирует данные NYC Taxi:\n",
    "    - Приводит все названия колонок к нижнему регистру\n",
    "    - Приводит типы данных к унифицированным\n",
    "    - Сохраняет в указанный путь\n",
    "    \"\"\"\n",
    "    \n",
    "    # Читаем исходные данные\n",
    "    df = spark.read.parquet(input_path)\n",
    "    \n",
    "    # 1. Приводим все названия колонок к нижнему регистру\n",
    "    for col_name in df.columns:\n",
    "        df = df.withColumnRenamed(col_name, col_name.lower())\n",
    "    \n",
    "    # 2. Определяем маппинг типов для унификации\n",
    "    type_mapping = {\n",
    "        # Числовые идентификаторы - в Integer\n",
    "        \"vendorid\": IntegerType(),\n",
    "        \"pulocationid\": IntegerType(), \n",
    "        \"dolocationid\": IntegerType(),\n",
    "        \"payment_type\": IntegerType(),\n",
    "        \"ratecodeid\": IntegerType(),\n",
    "        \n",
    "        # Пассажиры - в Integer (более логично)\n",
    "        \"passenger_count\": IntegerType(),\n",
    "        \n",
    "        # Денежные суммы - в Double (для точности)\n",
    "        \"fare_amount\": DoubleType(),\n",
    "        \"extra\": DoubleType(),\n",
    "        \"mta_tax\": DoubleType(),\n",
    "        \"tip_amount\": DoubleType(),\n",
    "        \"tolls_amount\": DoubleType(),\n",
    "        \"improvement_surcharge\": DoubleType(),\n",
    "        \"total_amount\": DoubleType(),\n",
    "        \"congestion_surcharge\": DoubleType(),\n",
    "        \"airport_fee\": DoubleType(),\n",
    "        \"cbd_congestion_fee\": DoubleType(),\n",
    "        \n",
    "        # Дистанция - в Double\n",
    "        \"trip_distance\": DoubleType()\n",
    "    }\n",
    "    \n",
    "    # 3. Применяем преобразование типов с обработкой ошибок\n",
    "    for col_name, target_type in type_mapping.items():\n",
    "        if col_name in df.columns:\n",
    "            df = df.withColumn(\n",
    "                col_name, \n",
    "                F.coalesce(\n",
    "                    F.col(col_name).cast(target_type), \n",
    "                    F.lit(0 if target_type == IntegerType() else 0.0)\n",
    "                )\n",
    "            )\n",
    "    \n",
    "    # 4. Гарантируем порядок колонок для consistency\n",
    "    expected_columns = [\n",
    "        \"vendorid\", \"tpep_pickup_datetime\", \"tpep_dropoff_datetime\",\n",
    "        \"passenger_count\", \"trip_distance\", \"ratecodeid\", \"store_and_fwd_flag\",\n",
    "        \"pulocationid\", \"dolocationid\", \"payment_type\", \"fare_amount\", \"extra\",\n",
    "        \"mta_tax\", \"tip_amount\", \"tolls_amount\", \"improvement_surcharge\",\n",
    "        \"total_amount\", \"congestion_surcharge\", \"airport_fee\", \"cbd_congestion_fee\"\n",
    "    ]\n",
    "    \n",
    "    # Выбираем только существующие колонки в правильном порядке\n",
    "    final_columns = [col for col in expected_columns if col in df.columns]\n",
    "    df_standardized = df.select(final_columns)\n",
    "    \n",
    "    # 5. Сохраняем с оптимальными настройками\n",
    "    (df_standardized\n",
    "     .write\n",
    "     .mode(\"overwrite\")\n",
    "     .option(\"compression\", \"snappy\")  # хороший баланс скорость/сжатие\n",
    "     .parquet(output_path)\n",
    "    )\n",
    "    \n",
    "    print(f\"✅ Стандартизировано: {input_path} -> {output_path}\")\n",
    "    print(f\"📊 Схема после стандартизации:\")\n",
    "    df_standardized.printSchema()\n",
    "    \n",
    "    return df_standardized\n",
    "\n",
    "# Пример использования для одного файла\n",
    "input_path = \"s3a://bronze/nyc-taxi-data/yellow_tripdata_2023-01.parquet\"\n",
    "output_path = \"s3a://silver/nyc-taxi-data/yellow_tripdata_2023-01.parquet\"\n",
    "\n",
    "standardized_df = standardize_nyc_taxi_data(input_path, output_path)\n",
    "```\n",
    "\n",
    "**Улучшенная версия для обработки всех файлов:**\n",
    "\n",
    "```python\n",
    "def process_all_nyc_taxi_files():\n",
    "    \"\"\"Обрабатывает все файлы NYC Taxi из Bronze в Silver\"\"\"\n",
    "    \n",
    "    # Получаем список всех parquet файлов в bronze\n",
    "    bronze_files = spark.sql(f\"\"\"\n",
    "        SELECT path \n",
    "        FROM (\n",
    "            SELECT input_file_name() as path \n",
    "            FROM parquet.`s3a://bronze/nyc-taxi-data/`\n",
    "        ) \n",
    "        GROUP BY path\n",
    "    \"\"\").collect()\n",
    "    \n",
    "    print(f\"📁 Найдено файлов для обработки: {len(bronze_files)}\")\n",
    "    \n",
    "    for i, row in enumerate(bronze_files, 1):\n",
    "        input_path = row['path']\n",
    "        # Извлекаем имя файла из пути\n",
    "        file_name = input_path.split('/')[-1]\n",
    "        output_path = f\"s3a://silver/nyc-taxi-data/{file_name}\"\n",
    "        \n",
    "        print(f\"🔄 Обрабатываю ({i}/{len(bronze_files)}): {file_name}\")\n",
    "        \n",
    "        try:\n",
    "            standardize_nyc_taxi_data(input_path, output_path)\n",
    "        except Exception as e:\n",
    "            print(f\"❌ Ошибка при обработке {file_name}: {e}\")\n",
    "    \n",
    "    print(\"🎉 Все файлы обработаны!\")\n",
    "\n",
    "# Запускаем обработку всех файлов\n",
    "process_all_nyc_taxi_files()\n",
    "```\n",
    "\n",
    "**Преимущества подхода:**\n",
    "\n",
    "1. ✅ **Единая схема** - все файлы имеют одинаковые названия колонок и типы\n",
    "2. ✅ **Простота чтения** - `spark.read.parquet(\"s3a://silver/nyc-taxi-data/\")` просто работает\n",
    "3. ✅ **Производительность** - предсказуемые типы данных улучшают performance\n",
    "4. ✅ **Стабильность** - никаких внезапных падений из-за evolving schemas\n",
    "\n",
    "**Типы данных выбраны так:**\n",
    "- **Integer** - для счетчиков и ID (пассажиры, локации, вендоры)\n",
    "- **Double** - для денежных сумм и дробных значений (более точный чем Float)\n",
    "- **String/Timestamp** - остаются как есть\n",
    "\n",
    "После этого можно будет безопасно делать:\n",
    "```python\n",
    "df = spark.read.parquet(\"s3a://silver/nyc-taxi-data/\")\n",
    "# И все просто работает!\n",
    "```"
   ]
  }
 ],
 "metadata": {
  "kernelspec": {
   "display_name": "Python 3 (ipykernel)",
   "language": "python",
   "name": "python3"
  },
  "language_info": {
   "codemirror_mode": {
    "name": "ipython",
    "version": 3
   },
   "file_extension": ".py",
   "mimetype": "text/x-python",
   "name": "python",
   "nbconvert_exporter": "python",
   "pygments_lexer": "ipython3",
   "version": "3.8.10"
  }
 },
 "nbformat": 4,
 "nbformat_minor": 5
}
