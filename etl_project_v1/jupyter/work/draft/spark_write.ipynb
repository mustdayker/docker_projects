{
 "cells": [
  {
   "cell_type": "markdown",
   "id": "d86f430a-4955-42e7-9748-867aac501dc3",
   "metadata": {},
   "source": [
    "# Запись"
   ]
  },
  {
   "cell_type": "code",
   "execution_count": null,
   "id": "cd83af94-cba0-4814-9d8b-2cd31272716d",
   "metadata": {},
   "outputs": [],
   "source": [
    "from pyspark.sql import SparkSession\n",
    "from pyspark.sql import functions as F\n",
    "\n",
    "drivers = [\n",
    "    \"/home/jovyan/work/spark-jars/hadoop-aws-3.3.4.jar\",             # S3\n",
    "    \"/home/jovyan/work/spark-jars/aws-java-sdk-bundle-1.12.262.jar\", # S3\n",
    "    \"/home/jovyan/work/spark-jars/wildfly-openssl-1.0.7.Final.jar\",  # S3\n",
    "    \"/home/jovyan/work/spark-jars/postgresql-42.6.0.jar\",            # PostgreSQL\n",
    "]\n",
    "\n",
    "spark = (SparkSession.builder\n",
    "         .appName(\"mustdayker-Spark\")\n",
    "         .master(\"spark://spark-master:7077\") \n",
    "         .config(\"spark.jars\", \",\".join(drivers))\n",
    "         .getOrCreate()\n",
    "        )"
   ]
  },
  {
   "cell_type": "code",
   "execution_count": null,
   "id": "e278570f-f1d8-4be0-8c3f-2699786be464",
   "metadata": {},
   "outputs": [],
   "source": [
    "spark.stop()"
   ]
  },
  {
   "cell_type": "markdown",
   "id": "7cbac113-56bd-45d0-984f-a68452807065",
   "metadata": {},
   "source": [
    "---"
   ]
  },
  {
   "cell_type": "code",
   "execution_count": null,
   "id": "5f592ee1-3b33-4cc4-9be8-45d2198ac750",
   "metadata": {},
   "outputs": [],
   "source": [
    "data = [(\"Анна\", 25), (\"Иван\", 30), (\"Мария\", 28), (\"Осталый\", 38)]\n",
    "df = spark.createDataFrame(data, [\"name\", \"age\"])"
   ]
  },
  {
   "cell_type": "code",
   "execution_count": null,
   "id": "0bc128a9-a2c7-43fc-9d31-dfb0d9e636f3",
   "metadata": {},
   "outputs": [],
   "source": [
    "# Проверка записи в MinIO\n",
    "df = spark.range(10)\n",
    "df.write.mode(\"overwrite\").csv(\"s3a://learn-bucket/test_22\")\n",
    "print(\"✅ Успешно!\")"
   ]
  },
  {
   "cell_type": "markdown",
   "id": "97e10b72-5fbd-4064-8c87-253c74ff8531",
   "metadata": {},
   "source": [
    "---"
   ]
  },
  {
   "cell_type": "markdown",
   "id": "6d3e15d8-189c-421a-b6c5-20c82e4ac3d0",
   "metadata": {},
   "source": [
    "# PostgreSQL"
   ]
  },
  {
   "cell_type": "code",
   "execution_count": null,
   "id": "19c1cd7f-fa88-48e3-a3c7-94c3758f82ec",
   "metadata": {},
   "outputs": [],
   "source": [
    "# Базовый\n",
    "\n",
    "(df.write.format(\"jdbc\")\n",
    "         .option(\"url\", \"jdbc:postgresql://postgres-db:5432/learn_base\")\n",
    "         .option(\"driver\", \"org.postgresql.Driver\")\n",
    "         .option(\"user\", \"airflow\")\n",
    "         .option(\"password\", \"airflow\")\n",
    "         .option(\"dbtable\", \"отсталые\")\n",
    "         .mode(\"overwrite\")\n",
    "         .save())"
   ]
  },
  {
   "cell_type": "code",
   "execution_count": null,
   "id": "b205da4f-ce2e-4654-8aec-0fdd569c3dd9",
   "metadata": {},
   "outputs": [],
   "source": [
    "# Способы записи\n",
    "         .mode(\"overwrite\") # перезаписать таблицу\n",
    "         .mode(\"append\")    # добавить данные\n",
    "         .mode(\"ignore\")    # пропустить если таблица существует\n",
    "         .mode(\"error\")     # ошибка если таблица существует (по умолчанию)"
   ]
  },
  {
   "cell_type": "code",
   "execution_count": null,
   "id": "3899517c-3d20-491b-94a1-ab41851f262e",
   "metadata": {},
   "outputs": [],
   "source": [
    "# Расширенный\n",
    "\n",
    "(df.write.format(\"jdbc\")\n",
    "         .option(\"batchsize\", 10000)                  # размер батча\n",
    "         .option(\"isolationLevel\", \"READ_COMMITTED\")  # уровень изоляции\n",
    "         .option(\"truncate\", \"true\")                  # truncate вместо drop при overwrite\n",
    "         .option(\"createTableColumnTypes\", \"name VARCHAR(255), age INT\") # типы колонок\n",
    ")"
   ]
  },
  {
   "cell_type": "code",
   "execution_count": null,
   "id": "c69ffc16-18c4-4953-9f68-2b2420c05e7c",
   "metadata": {},
   "outputs": [],
   "source": [
    "# Параллельная запись с партиционированием\n",
    "\n",
    "(df.write.format(\"jdbc\")\n",
    "         .option(\"numPartitions\", 10)         # количество партиций\n",
    "         .option(\"partitionColumn\", \"id\")     # колонка для партиционирования\n",
    "         .option(\"lowerBound\", \"1\")           # минимальное значение\n",
    "         .option(\"upperBound\", \"1000000\")     # максимальное значение\n",
    ")"
   ]
  },
  {
   "cell_type": "code",
   "execution_count": null,
   "id": "4b56e0ad-29cb-4f25-835b-a94e77c81101",
   "metadata": {},
   "outputs": [],
   "source": [
    "# Через функцию\n",
    "\n",
    "def spark_to_postgres(df, table_name, mode=\"append\", **options):\n",
    "    \n",
    "    base_options = {\n",
    "                    \"url\": \"jdbc:postgresql://postgres-db:5432/learn_base\",\n",
    "                    \"driver\": \"org.postgresql.Driver\",\n",
    "                    \"user\": \"airflow\", \n",
    "                    \"password\": \"airflow\",\n",
    "                   }\n",
    "\n",
    "    base_options.update(options)\n",
    "    \n",
    "    (df.write\n",
    "       .format(\"jdbc\")\n",
    "       .option(\"dbtable\", table_name)\n",
    "       .options(**base_options)\n",
    "       .mode(mode)\n",
    "       .save())\n",
    "\n",
    "# Использование\n",
    "spark_to_postgres(df, \"отсталые\", \"overwrite\", batchsize=20000, truncate=\"true\")"
   ]
  },
  {
   "cell_type": "markdown",
   "id": "ba8886fc-0968-4463-8252-6753451185cd",
   "metadata": {},
   "source": [
    "---"
   ]
  },
  {
   "cell_type": "markdown",
   "id": "137f40a7-87b1-4da8-9b00-3959c1afae71",
   "metadata": {},
   "source": [
    "# CSV"
   ]
  },
  {
   "cell_type": "code",
   "execution_count": null,
   "id": "472e2abc-4aff-415e-a471-553ffc14d1f3",
   "metadata": {},
   "outputs": [],
   "source": [
    "# Базовый\n",
    "(df.write.format(\"csv\")\n",
    "    .option(\"header\", \"true\")\n",
    "    .option(\"delimiter\", \",\")\n",
    "    .option(\"encoding\", \"UTF-8\")\n",
    "    .mode(\"overwrite\")\n",
    "    .save(\"s3a://my-bucket/data/csv-output\"))"
   ]
  },
  {
   "cell_type": "code",
   "execution_count": null,
   "id": "50bea2d0-2b30-41d8-ac81-b58e69f123d5",
   "metadata": {},
   "outputs": [],
   "source": [
    "# Полный\n",
    "(df.write.format(\"csv\")\n",
    "    .option(\"header\", \"true\")              # Заголовки\n",
    "    .option(\"delimiter\", \",\")              # Разделитель\n",
    "    .option(\"quote\", \"\\\"\")                 # Символ quoting\n",
    "    .option(\"escape\", \"\\\"\")                # Символ экранирования\n",
    "    .option(\"encoding\", \"UTF-8\")           # Кодировка\n",
    "    .option(\"nullValue\", \"NULL\")           # Замена null\n",
    "    .option(\"dateFormat\", \"yyyy-MM-dd\")    # Формат дат\n",
    "    .option(\"compression\", \"gzip\")         # Сжатие\n",
    "    .mode(\"overwrite\")                     # Режим записи\n",
    "    .save(\"s3a://my-bucket/data/output\"))  # Путь назначения"
   ]
  },
  {
   "cell_type": "markdown",
   "id": "73996740-c62e-495d-905f-221db2f66320",
   "metadata": {},
   "source": []
  },
  {
   "cell_type": "code",
   "execution_count": null,
   "id": "b68694b6-b386-42f0-9c49-161430ba70ef",
   "metadata": {},
   "outputs": [],
   "source": []
  },
  {
   "cell_type": "markdown",
   "id": "bc58245f-842a-4d42-a704-1c51b62e488e",
   "metadata": {},
   "source": [
    "# Parquet"
   ]
  },
  {
   "cell_type": "code",
   "execution_count": null,
   "id": "f9fe48ef-19d4-4938-96a6-692a113da402",
   "metadata": {},
   "outputs": [],
   "source": [
    "(df.write.format(\"parquet\")\n",
    "    .option(\"compression\", \"snappy\")\n",
    "    .option(\"parquet.block.size\", 134217728)\n",
    "    .option(\"parquet.page.size\", 1048576)\n",
    "    .option(\"parquet.dictionary.enabled\", \"true\")\n",
    "    .option(\"parquet.bloom.filter.enabled\", \"true\")\n",
    "    .mode(\"overwrite\")\n",
    "    .save(\"s3a://my-bucket/data/parquet-output\"))"
   ]
  },
  {
   "cell_type": "code",
   "execution_count": null,
   "id": "dcc5e21f-c2d4-4a8f-87ff-dac348072fcf",
   "metadata": {},
   "outputs": [],
   "source": [
    "(df.write.format(\"parquet\")\n",
    "    .option(\"compression\", \"snappy\")\n",
    "    .option(\"parquet.block.size\", 134217728)\n",
    "    .option(\"parquet.page.size\", 1048576)\n",
    "    .option(\"parquet.dictionary.enabled\", \"true\")\n",
    "    .option(\"parquet.bloom.filter.enabled\", \"true\")\n",
    "    .option(\"parquet.writer.version\", \"v2\")\n",
    "    .option(\"mergeSchema\", \"true\")\n",
    "    .partitionBy(\"year\", \"month\")           # Партиционирование\n",
    "    .mode(\"overwrite\")\n",
    "    .save(\"s3a://my-bucket/data/partitioned-parquet/\"))"
   ]
  },
  {
   "cell_type": "code",
   "execution_count": null,
   "id": "42084105-fd5e-4f31-989e-44063c39ef1a",
   "metadata": {},
   "outputs": [],
   "source": [
    "spark.stop()"
   ]
  }
 ],
 "metadata": {
  "kernelspec": {
   "display_name": "Python 3 (ipykernel)",
   "language": "python",
   "name": "python3"
  },
  "language_info": {
   "codemirror_mode": {
    "name": "ipython",
    "version": 3
   },
   "file_extension": ".py",
   "mimetype": "text/x-python",
   "name": "python",
   "nbconvert_exporter": "python",
   "pygments_lexer": "ipython3",
   "version": "3.8.10"
  }
 },
 "nbformat": 4,
 "nbformat_minor": 5
}
