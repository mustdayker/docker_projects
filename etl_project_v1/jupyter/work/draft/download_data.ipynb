{
 "cells": [
  {
   "cell_type": "code",
   "execution_count": null,
   "id": "98508e12-39c6-4252-a9a3-ec03f8575277",
   "metadata": {
    "ExecuteTime": {
     "end_time": "2025-10-28T18:59:48.608554Z",
     "start_time": "2025-10-28T18:59:48.600055Z"
    }
   },
   "outputs": [],
   "source": [
    "import requests\n",
    "import os\n",
    "from tqdm.auto import tqdm"
   ]
  },
  {
   "cell_type": "markdown",
   "id": "3d94deaa-1c73-4f48-a3ae-41fb74a6a575",
   "metadata": {},
   "source": [
    "## Пример скачивания 1 файла"
   ]
  },
  {
   "cell_type": "code",
   "execution_count": null,
   "id": "ddbff966-bcaf-4258-9d33-5fda6663fda6",
   "metadata": {
    "ExecuteTime": {
     "end_time": "2025-10-28T19:00:28.558147Z",
     "start_time": "2025-10-28T19:00:28.555734Z"
    }
   },
   "outputs": [],
   "source": [
    "# Full path - пример\n",
    "# https://d37ci6vzurychx.cloudfront.net/trip-data/yellow_tripdata_2025-01.parquet\n",
    "\n",
    "os.makedirs(\"nyc_taxi_data\", exist_ok=True) # Создаем папку\n",
    "\n",
    "base_url = \"https://d37ci6vzurychx.cloudfront.net/trip-data\" # базовый путь к файлу на сервере\n",
    "filename = f\"yellow_tripdata_2024-01.parquet\"                # имя файла\n",
    "url = f\"{base_url}/{filename}\"                               # Полный URL\n",
    "filepath = os.path.join(\"nyc_taxi_data\", filename)  # Путь на диске (корректное объединение пути с помощью os.path.join())"
   ]
  },
  {
   "cell_type": "code",
   "execution_count": null,
   "id": "da158291-4b4d-41f1-99cb-4ae345052bba",
   "metadata": {
    "ExecuteTime": {
     "end_time": "2025-10-28T19:00:57.669350Z",
     "start_time": "2025-10-28T19:00:55.740048Z"
    }
   },
   "outputs": [],
   "source": [
    "# весь блок одеваем в try except, \n",
    "# чтобы при случае отсутствия соединения или файла программа не крашнулась\n",
    "try:\n",
    "    response = requests.get(url, stream=True)  # 1. Отправляем HTTP GET запрос к URL для скачивания файла\n",
    "                                        #     stream=True - КРИТИЧЕСКИ важный параметр:\n",
    "                                        # Без stream=True: requests загружает ВЕСЬ файл в оперативную память сразу\n",
    "                                        #   С stream=True: файл загружается ЧАСТЯМИ (чанками)\n",
    "    \n",
    "    response.raise_for_status() # 2. ПРОВЕРКА НА ОШИБКИ HTTP: автоматически проверяет код ответа сервера\n",
    "                                # - Если код 200 (OK) - ничего не происходит, продолжаем выполнение\n",
    "                                # - Если код 4xx (клиентская ошибка) или 5xx (серверная ошибка) - \n",
    "                                #   ВЫБРАСЫВАЕТСЯ ИСКЛЮЧЕНИЕ requests.exceptions.HTTPError\n",
    "                                \n",
    "    with open(filepath, 'wb') as f: #  ОТКРЫВАЕМ ФАЙЛ ДЛЯ ЗАПИСИ в БИНАРНОМ РЕЖИМЕ:\n",
    "                                    #  'wb' означает:\n",
    "                                    #    w - write (запись)\n",
    "                                    #    b - binary (бинарный режим - для файлов, которые не являются текстом)\n",
    "                                    #  Конструкция 'with' гарантирует, что файл будет КОРРЕКТНО ЗАКРЫТ \n",
    "                                    #  даже если возникнет ошибка во время записи\n",
    "        for chunk in response.iter_content(chunk_size=8192):    # ПОСТРОЧНОЕ ЧТЕНИЕ И ЗАПИСА ФАЙЛА:\n",
    "                                                                # response.iter_content() - это ГЕНЕРАТОР, который возвращает файл \n",
    "                                                                # небольшими частями (чанками) вместо одной большой порции\n",
    "                                                                # chunk_size=8192 - размер одного кусочка в байтах (8 КБ)\n",
    "            if chunk:  # 5. ФИЛЬТРАЦИЯ ПУСТЫХ ЧАНКОВ:\n",
    "                       # Иногда iter_content может возвращать пустые чанки (None или b'')\n",
    "                       # Эта проверка гарантирует, что мы записываем ТОЛЬКО данные\n",
    "                       # и не выполняем лишних операций записи\n",
    "                f.write(chunk)  # 6. ЗАПИСЬ ЧАНКА НА ДИСК:\n",
    "                                # Каждый кусочек данных (8 КБ) записывается в файл\n",
    "                                # Это происходит МНОГОКРАТНО, пока весь файл не будет скачан\n",
    "    \n",
    "    file_size = os.path.getsize(filepath) / (1024 * 1024) # os.path.getsize(filepath) - получает размер файла в БАЙТАХ\n",
    "    result = f\"✓ {filename} ({file_size:.1f} MB)\"\n",
    "    \n",
    "except Exception as e:\n",
    "    result = f\"✗ {filename}: {e}\"\n",
    "\n",
    "print(f'Результат: {result}')"
   ]
  },
  {
   "cell_type": "markdown",
   "id": "c5d54656-b2fb-493f-ae28-dc02eecc3e29",
   "metadata": {},
   "source": [
    "## Скачиваем пакетом"
   ]
  },
  {
   "cell_type": "code",
   "execution_count": null,
   "id": "7d381838-231c-488b-aee1-ee6f33ed0aee",
   "metadata": {
    "ExecuteTime": {
     "end_time": "2025-10-28T19:03:04.567795Z",
     "start_time": "2025-10-28T19:03:01.209658Z"
    }
   },
   "outputs": [],
   "source": [
    "def download_simple():\n",
    "    \"\"\"Упрощенная загрузка файлов по очереди\"\"\"\n",
    "    base_url = \"https://d37ci6vzurychx.cloudfront.net/trip-data\"\n",
    "    os.makedirs(\"nyc_taxi_data\", exist_ok=True)\n",
    "    \n",
    "    results = []\n",
    "    \n",
    "    for month in tqdm(range(1, 13), desc=\"Скачивание файла\"):\n",
    "        filename = f\"yellow_tripdata_2024-{month:02d}.parquet\"\n",
    "        url = f\"{base_url}/{filename}\"\n",
    "        filepath = os.path.join(\"nyc_taxi_data\", filename)\n",
    "        \n",
    "        try:\n",
    "            response = requests.get(url, stream=True)\n",
    "            response.raise_for_status()\n",
    "            \n",
    "            with open(filepath, 'wb') as f:\n",
    "                for chunk in response.iter_content(chunk_size=8192):\n",
    "                    if chunk:\n",
    "                        f.write(chunk)\n",
    "            \n",
    "            file_size = os.path.getsize(filepath) / (1024 * 1024)\n",
    "            results.append(f\"✓ {filename} ({file_size:.1f} MB)\")\n",
    "            \n",
    "        except Exception as e:\n",
    "            results.append(f\"✗ {filename}: {e}\")\n",
    "    \n",
    "    return results\n",
    "\n",
    "print(\"🚕 Загрузка NYC Yellow Taxi 2024 (упрощенная версия)...\")\n",
    "results = download_simple()\n",
    "\n",
    "print(\"\\nРезультаты:\")\n",
    "for result in results:\n",
    "    print(result)"
   ]
  },
  {
   "cell_type": "markdown",
   "id": "cd27ca94-8937-459a-82f6-6f55f900865a",
   "metadata": {},
   "source": [
    "### Скачиваем сразу в MinIO"
   ]
  },
  {
   "cell_type": "markdown",
   "id": "cb5fedc6-ea72-4a14-96c4-aed728a2d23a",
   "metadata": {},
   "source": [
    "### Маленькие файлы, грузятся в оперативку"
   ]
  },
  {
   "cell_type": "code",
   "execution_count": null,
   "id": "a58c0a43-66d6-435f-bf52-cf1fc1aaadde",
   "metadata": {},
   "outputs": [],
   "source": [
    "from minio import Minio\n",
    "from minio.error import S3Error\n",
    "import requests\n",
    "from tqdm import tqdm\n",
    "import io\n",
    "\n",
    "def download_to_minio_optimized():\n",
    "    \"\"\"Оптимизированная загрузка в MinIO\"\"\"\n",
    "    # Настройка клиента MinIO\n",
    "    minio_client = Minio(\n",
    "        \"minio:9000\",\n",
    "        access_key=\"minioadmin\",\n",
    "        secret_key=\"minioadmin\",\n",
    "        secure=False\n",
    "    )\n",
    "\n",
    "    bucket_name = \"bronze\"\n",
    "    prefix = \"nyc-taxi-data\"\n",
    "    base_url = \"https://d37ci6vzurychx.cloudfront.net/trip-data\"\n",
    "    \n",
    "    # Создаем бакет если нужно\n",
    "    try:\n",
    "        if not minio_client.bucket_exists(bucket_name):\n",
    "            minio_client.make_bucket(bucket_name)\n",
    "            print(f\"✓ Бакет {bucket_name} создан\")\n",
    "    except S3Error as e:\n",
    "        return [f\"✗ Ошибка бакета: {e}\"]\n",
    "    \n",
    "    results = []\n",
    "    \n",
    "    for month in tqdm(range(1, 2), desc=\"Загрузка в MinIO\"):\n",
    "        filename = f\"yellow_tripdata_2024-{month:02d}.parquet\"\n",
    "        url = f\"{base_url}/{filename}\"\n",
    "        \n",
    "        try:\n",
    "            response = requests.get(url, stream=True)\n",
    "            response.raise_for_status()\n",
    "            \n",
    "            # Получаем размер файла\n",
    "            file_size = int(response.headers.get('content-length', 0))\n",
    "            \n",
    "            # Потоковая загрузка в MinIO\n",
    "            file_stream = io.BytesIO()\n",
    "            for chunk in response.iter_content(chunk_size=8192):\n",
    "                if chunk:\n",
    "                    file_stream.write(chunk)\n",
    "            \n",
    "            file_stream.seek(0)  # Возвращаемся в начало потока\n",
    "            \n",
    "            minio_client.put_object(\n",
    "                bucket_name=bucket_name,\n",
    "                object_name=f\"{prefix}/{filename}\",\n",
    "                data=file_stream,\n",
    "                length=file_size\n",
    "            )\n",
    "            \n",
    "            results.append(f\"✓ s3a://{prefix}/{filename} ({file_size / (1024 * 1024):.1f} MB)\")\n",
    "            \n",
    "        except Exception as e:\n",
    "            results.append(f\"✗ {filename}: {e}\")\n",
    "    \n",
    "    return results\n",
    "\n",
    "# Использование\n",
    "print(\"🚕 Загрузка в MinIO...\")\n",
    "results = download_to_minio_optimized()\n",
    "\n",
    "print(\"\\nРезультаты:\")\n",
    "for result in results:\n",
    "    print(result)"
   ]
  },
  {
   "cell_type": "markdown",
   "id": "46e0e0c0-5551-43ae-b3b4-36350f2808e2",
   "metadata": {},
   "source": [
    "### Для больших файлов"
   ]
  },
  {
   "cell_type": "code",
   "execution_count": null,
   "id": "15e4e831-6ac1-4ee7-9813-ca2f634e1ea1",
   "metadata": {},
   "outputs": [],
   "source": [
    "from minio import Minio\n",
    "from minio.error import S3Error\n",
    "import requests\n",
    "from tqdm import tqdm\n",
    "import os\n",
    "import tempfile\n",
    "\n",
    "def download_to_minio_optimized():\n",
    "    \"\"\"Оптимизированная загрузка в MinIO для больших файлов\"\"\"\n",
    "    # Настройка клиента MinIO\n",
    "    minio_client = Minio(\n",
    "        \"minio:9000\",\n",
    "        access_key=\"minioadmin\",\n",
    "        secret_key=\"minioadmin\",\n",
    "        secure=False\n",
    "    )\n",
    "\n",
    "    bucket_name = \"bronze\"\n",
    "    prefix = \"nyc-taxi-data\"\n",
    "    base_url = \"https://d37ci6vzurychx.cloudfront.net/trip-data\"\n",
    "    \n",
    "    # Создаем бакет если нужно\n",
    "    try:\n",
    "        if not minio_client.bucket_exists(bucket_name):\n",
    "            minio_client.make_bucket(bucket_name)\n",
    "            print(f\"✓ Бакет {bucket_name} создан\")\n",
    "    except S3Error as e:\n",
    "        return [f\"✗ Ошибка бакета: {e}\"]\n",
    "    \n",
    "    results = []\n",
    "    \n",
    "    for month in tqdm(range(1, 2), desc=\"Загрузка в MinIO\"):\n",
    "        filename = f\"yellow_tripdata_2024-{month:02d}.parquet\"\n",
    "        url = f\"{base_url}/{filename}\"\n",
    "        \n",
    "        try:\n",
    "            response = requests.get(url, stream=True)\n",
    "            response.raise_for_status()\n",
    "            \n",
    "            # Создаем временный файл вместо использования памяти\n",
    "            with tempfile.NamedTemporaryFile(delete=False, suffix='.parquet') as temp_file:\n",
    "                temp_path = temp_file.name\n",
    "                print(f\"📁 Временный файл: {temp_path}\")  # ← ДОБАВЬ ЭТУ СТРОКУ\n",
    "                \n",
    "                # Скачиваем файл на диск порциями\n",
    "                total_size = int(response.headers.get('content-length', 0))\n",
    "                downloaded = 0\n",
    "                \n",
    "                for chunk in response.iter_content(chunk_size=8192 * 8):  # Увеличили chunk_size\n",
    "                    if chunk:\n",
    "                        temp_file.write(chunk)\n",
    "                        downloaded += len(chunk)\n",
    "            \n",
    "            # Получаем реальный размер файла\n",
    "            file_size = os.path.getsize(temp_path)\n",
    "            \n",
    "            # Загружаем в MinIO с диска (не из памяти)\n",
    "            minio_client.fput_object(  # ← ИЗМЕНЕНО: используем fput_object вместо put_object\n",
    "                bucket_name=bucket_name,\n",
    "                object_name=f\"{prefix}/{filename}\",\n",
    "                file_path=temp_path  # ← ИЗМЕНЕНО: загрузка с диска\n",
    "            )\n",
    "            \n",
    "            # Удаляем временный файл\n",
    "            os.unlink(temp_path)\n",
    "            \n",
    "            results.append(f\"✓ s3a://{bucket_name}/{prefix}/{filename} ({file_size / (1024 * 1024):.1f} MB)\")\n",
    "            \n",
    "        except Exception as e:\n",
    "            # Удаляем временный файл в случае ошибки\n",
    "            if 'temp_path' in locals():\n",
    "                try:\n",
    "                    os.unlink(temp_path)\n",
    "                except:\n",
    "                    pass\n",
    "            results.append(f\"✗ {filename}: {e}\")\n",
    "    \n",
    "    return results"
   ]
  },
  {
   "cell_type": "code",
   "execution_count": null,
   "id": "8e1dd4fe-ae9a-4fb9-aef9-67b28e69e17b",
   "metadata": {},
   "outputs": [],
   "source": [
    "# Использование\n",
    "print(\"🚕 Загрузка в MinIO...\")\n",
    "results = download_to_minio_optimized()\n",
    "\n",
    "print(\"\\nРезультаты:\")\n",
    "for result in results:\n",
    "    print(result)"
   ]
  },
  {
   "cell_type": "markdown",
   "id": "73db927d-57a1-431d-9c34-d59de01d83ef",
   "metadata": {},
   "source": [
    "# С проверкой файлов на сайте"
   ]
  },
  {
   "cell_type": "code",
   "execution_count": 45,
   "id": "1076521f-6b70-4712-a407-f8c45738f6be",
   "metadata": {},
   "outputs": [],
   "source": [
    "from minio import Minio\n",
    "from minio.error import S3Error\n",
    "import requests\n",
    "from tqdm import tqdm\n",
    "import os\n",
    "import tempfile\n",
    "\n",
    "def get_available_remote_files(base_url=\"https://d37ci6vzurychx.cloudfront.net/trip-data\",\n",
    "                               filename_template=\"yellow_tripdata_{year}-{month:02d}.parquet\",\n",
    "                               year=2024):\n",
    "    \"\"\"Проверить какие файлы фактически существуют на сайте\"\"\"\n",
    "    available_files = []\n",
    "    \n",
    "    print(\"🔍 Проверка доступных файлов на сайте...\")\n",
    "    \n",
    "    for month in tqdm(range(1, 13), desc=\"Проверка месяца\"):\n",
    "        filename = filename_template.format(year=year, month=month)\n",
    "        url = f\"{base_url}/{filename}\"\n",
    "        \n",
    "        try:\n",
    "            # Делаем HEAD запрос чтобы проверить существование файла\n",
    "            response = requests.head(url, timeout=10)\n",
    "            if response.status_code == 200:\n",
    "                available_files.append(filename)\n",
    "                print(f\"  ✓ {filename} - доступен\")\n",
    "            else:\n",
    "                print(f\"  ✗ {filename} - недоступен (код: {response.status_code})\")\n",
    "                \n",
    "        except requests.exceptions.RequestException as e:\n",
    "            print(f\"  ✗ {filename} - ошибка: {e}\")\n",
    "    \n",
    "    return available_files\n",
    "\n",
    "def get_local_minio_files(minio_client, \n",
    "                          bucket_name=\"bronze\", \n",
    "                          prefix=\"nyc-taxi-data\"):\n",
    "    \"\"\"Получить список файлов в MinIO\"\"\"\n",
    "    local_files = []\n",
    "    try:\n",
    "        objects = minio_client.list_objects(bucket_name, prefix=prefix, recursive=True)\n",
    "        for obj in objects:\n",
    "            # Извлекаем имя файла из полного пути\n",
    "            filename = obj.object_name.replace(f\"{prefix}/\", \"\")\n",
    "            local_files.append(filename)\n",
    "    except S3Error as e:\n",
    "        print(f\"Ошибка при чтении бакета: {e}\")\n",
    "    \n",
    "    return local_files\n",
    "\n",
    "def download_missing_files(bucket_name=\"bronze\", \n",
    "                           prefix=\"nyc-taxi-data\",\n",
    "                           base_url=\"https://d37ci6vzurychx.cloudfront.net/trip-data\",\n",
    "                           filename_template=\"yellow_tripdata_{year}-{month:02d}.parquet\",\n",
    "                           year=2024):\n",
    "    \"\"\"Загрузка только отсутствующих файлов в MinIO\"\"\"\n",
    "    # Настройка клиента MinIO\n",
    "    minio_client = Minio(\n",
    "        \"minio:9000\",\n",
    "        access_key=\"minioadmin\",\n",
    "        secret_key=\"minioadmin\",\n",
    "        secure=False\n",
    "    )\n",
    "    \n",
    "    # Создаем бакет если нужно\n",
    "    try:\n",
    "        if not minio_client.bucket_exists(bucket_name):\n",
    "            minio_client.make_bucket(bucket_name)\n",
    "            print(f\"✓ Бакет {bucket_name} создан\")\n",
    "    except S3Error as e:\n",
    "        return [f\"✗ Ошибка бакета: {e}\"]\n",
    "    \n",
    "    # Получаем списки файлов\n",
    "    remote_files = get_available_remote_files(base_url, filename_template, year)\n",
    "    local_files = get_local_minio_files(minio_client, bucket_name, prefix)\n",
    "    \n",
    "    # Находим отсутствующие файлы\n",
    "    missing_files = list(set(remote_files) - set(local_files))\n",
    "\n",
    "    # Блок статистики\n",
    "    print(f\"\\n📊 СТАТИСТИКА:\")\n",
    "\n",
    "    print(f\"• Загружено в MinIO: {len(local_files)} файл(ов)\")    \n",
    "\n",
    "    print()    \n",
    "    print(f\"• Доступно на сайте: {len(remote_files)} файл(ов)\")\n",
    "    for file in sorted(remote_files):\n",
    "        print(f\"     - {file}\")\n",
    "\n",
    "    print()\n",
    "    if missing_files:\n",
    "        print(f\"• Из них отсутствует в MinIO: {len(missing_files)} файл(ов)\")\n",
    "        for file in sorted(missing_files):\n",
    "            print(f\"     - {file}\")\n",
    "    \n",
    "    if not missing_files:\n",
    "        return [\"✅ Все доступные файлы уже загружены\"]\n",
    "    \n",
    "    results = []\n",
    "    \n",
    "    # Скачиваем только отсутствующие файлы\n",
    "    for filename in tqdm(missing_files, desc=\"Загрузка недостающих\"):\n",
    "        url = f\"{base_url}/{filename}\"\n",
    "        \n",
    "        try:\n",
    "            response = requests.get(url, stream=True)\n",
    "            response.raise_for_status()\n",
    "            \n",
    "            # Создаем временный файл\n",
    "            with tempfile.NamedTemporaryFile(delete=False, suffix='.parquet') as temp_file:\n",
    "                temp_path = temp_file.name\n",
    "                \n",
    "                # Скачиваем файл на диск\n",
    "                total_size = int(response.headers.get('content-length', 0))\n",
    "                for chunk in response.iter_content(chunk_size=8192 * 8):\n",
    "                    if chunk:\n",
    "                        temp_file.write(chunk)\n",
    "            \n",
    "            # Получаем реальный размер файла\n",
    "            file_size = os.path.getsize(temp_path)\n",
    "            \n",
    "            # Загружаем в MinIO\n",
    "            minio_client.fput_object(\n",
    "                bucket_name=bucket_name,\n",
    "                object_name=f\"{prefix}/{filename}\",\n",
    "                file_path=temp_path\n",
    "            )\n",
    "            \n",
    "            # Удаляем временный файл\n",
    "            os.unlink(temp_path)\n",
    "            \n",
    "            results.append(f\"✓ {filename} ({file_size / (1024 * 1024):.1f} MB)\")\n",
    "            \n",
    "        except Exception as e:\n",
    "            # Удаляем временный файл в случае ошибки\n",
    "            if 'temp_path' in locals():\n",
    "                try:\n",
    "                    os.unlink(temp_path)\n",
    "                except:\n",
    "                    pass\n",
    "            results.append(f\"✗ {filename}: {e}\")\n",
    "    \n",
    "    return results\n",
    "\n",
    "def show_current_state(bucket_name=\"bronze\", \n",
    "                       prefix=\"nyc-taxi-data\",\n",
    "                       base_url=\"https://d37ci6vzurychx.cloudfront.net/trip-data\",\n",
    "                       filename_template=\"yellow_tripdata_{year}-{month:02d}.parquet\",\n",
    "                       year=2024):\n",
    "    \"\"\"Показать текущее состояние файлов\"\"\"\n",
    "    minio_client = Minio(\n",
    "        \"minio:9000\",\n",
    "        access_key=\"minioadmin\", \n",
    "        secret_key=\"minioadmin\",\n",
    "        secure=False\n",
    "    )\n",
    "    \n",
    "    remote_files = get_available_remote_files(base_url, filename_template, year)\n",
    "    local_files = get_local_minio_files(minio_client, bucket_name, prefix)\n",
    "    missing_files = list(set(remote_files) - set(local_files))\n",
    "    \n",
    "    print(\"\\n📊 ТЕКУЩЕЕ СОСТОЯНИЕ:\")\n",
    "    print(f\"• Загружено в MinIO: {len(local_files)} файл(ов)\")\n",
    "\n",
    "    print()\n",
    "    print(f\"• Доступно на сайте: {len(remote_files)} файл(ов)\")\n",
    "    for file in sorted(remote_files):\n",
    "        print(f\"     - {file}\")    \n",
    "\n",
    "    print()\n",
    "    print(f\"• Из них отсутствует в MinIO: {len(missing_files)} файл(ов)\")\n",
    "    if missing_files:\n",
    "        for file in sorted(missing_files):\n",
    "            print(f\"     - {file}\")"
   ]
  },
  {
   "cell_type": "code",
   "execution_count": 46,
   "id": "7696f1b1-b433-4364-a2ac-77fdb837cdea",
   "metadata": {},
   "outputs": [
    {
     "name": "stdout",
     "output_type": "stream",
     "text": [
      "🔍 Проверка доступных файлов на сайте...\n"
     ]
    },
    {
     "name": "stderr",
     "output_type": "stream",
     "text": [
      "Проверка месяца:   8%|▊         | 1/12 [00:00<00:01,  7.07it/s]"
     ]
    },
    {
     "name": "stdout",
     "output_type": "stream",
     "text": [
      "  ✓ yellow_tripdata_2022-01.parquet - доступен\n"
     ]
    },
    {
     "name": "stderr",
     "output_type": "stream",
     "text": [
      "Проверка месяца:  17%|█▋        | 2/12 [00:00<00:01,  7.15it/s]"
     ]
    },
    {
     "name": "stdout",
     "output_type": "stream",
     "text": [
      "  ✓ yellow_tripdata_2022-02.parquet - доступен\n"
     ]
    },
    {
     "name": "stderr",
     "output_type": "stream",
     "text": [
      "Проверка месяца:  25%|██▌       | 3/12 [00:00<00:01,  7.09it/s]"
     ]
    },
    {
     "name": "stdout",
     "output_type": "stream",
     "text": [
      "  ✓ yellow_tripdata_2022-03.parquet - доступен\n"
     ]
    },
    {
     "name": "stderr",
     "output_type": "stream",
     "text": [
      "Проверка месяца:  33%|███▎      | 4/12 [00:00<00:01,  7.22it/s]"
     ]
    },
    {
     "name": "stdout",
     "output_type": "stream",
     "text": [
      "  ✓ yellow_tripdata_2022-04.parquet - доступен\n"
     ]
    },
    {
     "name": "stderr",
     "output_type": "stream",
     "text": [
      "Проверка месяца:  42%|████▏     | 5/12 [00:00<00:01,  6.84it/s]"
     ]
    },
    {
     "name": "stdout",
     "output_type": "stream",
     "text": [
      "  ✓ yellow_tripdata_2022-05.parquet - доступен\n"
     ]
    },
    {
     "name": "stderr",
     "output_type": "stream",
     "text": [
      "Проверка месяца:  50%|█████     | 6/12 [00:00<00:00,  6.74it/s]"
     ]
    },
    {
     "name": "stdout",
     "output_type": "stream",
     "text": [
      "  ✓ yellow_tripdata_2022-06.parquet - доступен\n"
     ]
    },
    {
     "name": "stderr",
     "output_type": "stream",
     "text": [
      "Проверка месяца:  58%|█████▊    | 7/12 [00:01<00:00,  6.85it/s]"
     ]
    },
    {
     "name": "stdout",
     "output_type": "stream",
     "text": [
      "  ✓ yellow_tripdata_2022-07.parquet - доступен\n"
     ]
    },
    {
     "name": "stderr",
     "output_type": "stream",
     "text": [
      "Проверка месяца:  67%|██████▋   | 8/12 [00:01<00:00,  6.53it/s]"
     ]
    },
    {
     "name": "stdout",
     "output_type": "stream",
     "text": [
      "  ✓ yellow_tripdata_2022-08.parquet - доступен\n"
     ]
    },
    {
     "name": "stderr",
     "output_type": "stream",
     "text": [
      "Проверка месяца:  75%|███████▌  | 9/12 [00:01<00:00,  6.75it/s]"
     ]
    },
    {
     "name": "stdout",
     "output_type": "stream",
     "text": [
      "  ✓ yellow_tripdata_2022-09.parquet - доступен\n"
     ]
    },
    {
     "name": "stderr",
     "output_type": "stream",
     "text": [
      "Проверка месяца:  83%|████████▎ | 10/12 [00:01<00:00,  6.65it/s]"
     ]
    },
    {
     "name": "stdout",
     "output_type": "stream",
     "text": [
      "  ✓ yellow_tripdata_2022-10.parquet - доступен\n"
     ]
    },
    {
     "name": "stderr",
     "output_type": "stream",
     "text": [
      "Проверка месяца:  92%|█████████▏| 11/12 [00:01<00:00,  6.79it/s]"
     ]
    },
    {
     "name": "stdout",
     "output_type": "stream",
     "text": [
      "  ✓ yellow_tripdata_2022-11.parquet - доступен\n"
     ]
    },
    {
     "name": "stderr",
     "output_type": "stream",
     "text": [
      "Проверка месяца: 100%|██████████| 12/12 [00:01<00:00,  6.79it/s]\n"
     ]
    },
    {
     "name": "stdout",
     "output_type": "stream",
     "text": [
      "  ✓ yellow_tripdata_2022-12.parquet - доступен\n",
      "\n",
      "📊 СТАТИСТИКА:\n",
      "• Загружено в MinIO: 33 файл(ов)\n",
      "\n",
      "• Доступно на сайте: 12 файл(ов)\n",
      "     - yellow_tripdata_2022-01.parquet\n",
      "     - yellow_tripdata_2022-02.parquet\n",
      "     - yellow_tripdata_2022-03.parquet\n",
      "     - yellow_tripdata_2022-04.parquet\n",
      "     - yellow_tripdata_2022-05.parquet\n",
      "     - yellow_tripdata_2022-06.parquet\n",
      "     - yellow_tripdata_2022-07.parquet\n",
      "     - yellow_tripdata_2022-08.parquet\n",
      "     - yellow_tripdata_2022-09.parquet\n",
      "     - yellow_tripdata_2022-10.parquet\n",
      "     - yellow_tripdata_2022-11.parquet\n",
      "     - yellow_tripdata_2022-12.parquet\n",
      "\n",
      "• Из них отсутствует в MinIO: 12 файл(ов)\n",
      "     - yellow_tripdata_2022-01.parquet\n",
      "     - yellow_tripdata_2022-02.parquet\n",
      "     - yellow_tripdata_2022-03.parquet\n",
      "     - yellow_tripdata_2022-04.parquet\n",
      "     - yellow_tripdata_2022-05.parquet\n",
      "     - yellow_tripdata_2022-06.parquet\n",
      "     - yellow_tripdata_2022-07.parquet\n",
      "     - yellow_tripdata_2022-08.parquet\n",
      "     - yellow_tripdata_2022-09.parquet\n",
      "     - yellow_tripdata_2022-10.parquet\n",
      "     - yellow_tripdata_2022-11.parquet\n",
      "     - yellow_tripdata_2022-12.parquet\n"
     ]
    },
    {
     "name": "stderr",
     "output_type": "stream",
     "text": [
      "Загрузка недостающих: 100%|██████████| 12/12 [00:50<00:00,  4.19s/it]"
     ]
    },
    {
     "name": "stdout",
     "output_type": "stream",
     "text": [
      "Результаты дозагрузки:\n",
      "✓ yellow_tripdata_2022-01.parquet (36.4 MB)\n",
      "✓ yellow_tripdata_2022-02.parquet (43.5 MB)\n",
      "✓ yellow_tripdata_2022-03.parquet (53.1 MB)\n",
      "✓ yellow_tripdata_2022-04.parquet (52.7 MB)\n",
      "✓ yellow_tripdata_2022-05.parquet (53.0 MB)\n",
      "✓ yellow_tripdata_2022-06.parquet (52.8 MB)\n",
      "✓ yellow_tripdata_2022-07.parquet (47.1 MB)\n",
      "✓ yellow_tripdata_2022-08.parquet (47.4 MB)\n",
      "✓ yellow_tripdata_2022-09.parquet (47.3 MB)\n",
      "✓ yellow_tripdata_2022-10.parquet (54.4 MB)\n",
      "✓ yellow_tripdata_2022-11.parquet (47.8 MB)\n",
      "✓ yellow_tripdata_2022-12.parquet (51.2 MB)\n"
     ]
    },
    {
     "name": "stderr",
     "output_type": "stream",
     "text": [
      "\n"
     ]
    }
   ],
   "source": [
    "# Передаем параметры источника и получателя\n",
    "results = download_missing_files(\n",
    "    bucket_name=\"bronze\", \n",
    "    prefix=\"nyc-taxi-data\",\n",
    "    base_url=\"https://d37ci6vzurychx.cloudfront.net/trip-data\",\n",
    "    filename_template=\"yellow_tripdata_{year}-{month:02d}.parquet\",\n",
    "    year=2022\n",
    ")\n",
    "\n",
    "print(\"Результаты дозагрузки:\")\n",
    "for result in sorted(results):\n",
    "    print(result)"
   ]
  },
  {
   "cell_type": "code",
   "execution_count": 44,
   "id": "67d9d72c-cb5e-476e-ba3e-9ab6dc80b32e",
   "metadata": {},
   "outputs": [
    {
     "name": "stdout",
     "output_type": "stream",
     "text": [
      "🔍 Проверка доступных файлов на сайте...\n"
     ]
    },
    {
     "name": "stderr",
     "output_type": "stream",
     "text": [
      "Проверка месяца:   8%|▊         | 1/12 [00:00<00:05,  2.03it/s]"
     ]
    },
    {
     "name": "stdout",
     "output_type": "stream",
     "text": [
      "  ✓ yellow_tripdata_2022-01.parquet - доступен\n"
     ]
    },
    {
     "name": "stderr",
     "output_type": "stream",
     "text": [
      "Проверка месяца:  17%|█▋        | 2/12 [00:00<00:04,  2.09it/s]"
     ]
    },
    {
     "name": "stdout",
     "output_type": "stream",
     "text": [
      "  ✓ yellow_tripdata_2022-02.parquet - доступен\n"
     ]
    },
    {
     "name": "stderr",
     "output_type": "stream",
     "text": [
      "Проверка месяца:  25%|██▌       | 3/12 [00:01<00:04,  2.07it/s]"
     ]
    },
    {
     "name": "stdout",
     "output_type": "stream",
     "text": [
      "  ✓ yellow_tripdata_2022-03.parquet - доступен\n"
     ]
    },
    {
     "name": "stderr",
     "output_type": "stream",
     "text": [
      "Проверка месяца:  33%|███▎      | 4/12 [00:01<00:03,  2.10it/s]"
     ]
    },
    {
     "name": "stdout",
     "output_type": "stream",
     "text": [
      "  ✓ yellow_tripdata_2022-04.parquet - доступен\n"
     ]
    },
    {
     "name": "stderr",
     "output_type": "stream",
     "text": [
      "Проверка месяца:  42%|████▏     | 5/12 [00:02<00:03,  2.13it/s]"
     ]
    },
    {
     "name": "stdout",
     "output_type": "stream",
     "text": [
      "  ✓ yellow_tripdata_2022-05.parquet - доступен\n"
     ]
    },
    {
     "name": "stderr",
     "output_type": "stream",
     "text": [
      "Проверка месяца:  58%|█████▊    | 7/12 [00:02<00:01,  2.76it/s]"
     ]
    },
    {
     "name": "stdout",
     "output_type": "stream",
     "text": [
      "  ✓ yellow_tripdata_2022-06.parquet - доступен\n",
      "  ✓ yellow_tripdata_2022-07.parquet - доступен\n"
     ]
    },
    {
     "name": "stderr",
     "output_type": "stream",
     "text": [
      "Проверка месяца:  67%|██████▋   | 8/12 [00:03<00:01,  2.51it/s]"
     ]
    },
    {
     "name": "stdout",
     "output_type": "stream",
     "text": [
      "  ✓ yellow_tripdata_2022-08.parquet - доступен\n"
     ]
    },
    {
     "name": "stderr",
     "output_type": "stream",
     "text": [
      "Проверка месяца:  83%|████████▎ | 10/12 [00:04<00:00,  2.93it/s]"
     ]
    },
    {
     "name": "stdout",
     "output_type": "stream",
     "text": [
      "  ✓ yellow_tripdata_2022-09.parquet - доступен\n",
      "  ✓ yellow_tripdata_2022-10.parquet - доступен\n"
     ]
    },
    {
     "name": "stderr",
     "output_type": "stream",
     "text": [
      "Проверка месяца: 100%|██████████| 12/12 [00:04<00:00,  2.73it/s]"
     ]
    },
    {
     "name": "stdout",
     "output_type": "stream",
     "text": [
      "  ✓ yellow_tripdata_2022-11.parquet - доступен\n",
      "  ✓ yellow_tripdata_2022-12.parquet - доступен\n",
      "\n",
      "📊 ТЕКУЩЕЕ СОСТОЯНИЕ:\n",
      "• Загружено в MinIO: 33 файл(ов)\n",
      "\n",
      "• Доступно на сайте: 12 файл(ов)\n",
      "     - yellow_tripdata_2022-01.parquet\n",
      "     - yellow_tripdata_2022-02.parquet\n",
      "     - yellow_tripdata_2022-03.parquet\n",
      "     - yellow_tripdata_2022-04.parquet\n",
      "     - yellow_tripdata_2022-05.parquet\n",
      "     - yellow_tripdata_2022-06.parquet\n",
      "     - yellow_tripdata_2022-07.parquet\n",
      "     - yellow_tripdata_2022-08.parquet\n",
      "     - yellow_tripdata_2022-09.parquet\n",
      "     - yellow_tripdata_2022-10.parquet\n",
      "     - yellow_tripdata_2022-11.parquet\n",
      "     - yellow_tripdata_2022-12.parquet\n",
      "\n",
      "• Из них отсутствует в MinIO: 12 файл(ов)\n",
      "  - yellow_tripdata_2022-01.parquet\n",
      "  - yellow_tripdata_2022-02.parquet\n",
      "  - yellow_tripdata_2022-03.parquet\n",
      "  - yellow_tripdata_2022-04.parquet\n",
      "  - yellow_tripdata_2022-05.parquet\n",
      "  - yellow_tripdata_2022-06.parquet\n",
      "  - yellow_tripdata_2022-07.parquet\n",
      "  - yellow_tripdata_2022-08.parquet\n",
      "  - yellow_tripdata_2022-09.parquet\n",
      "  - yellow_tripdata_2022-10.parquet\n",
      "  - yellow_tripdata_2022-11.parquet\n",
      "  - yellow_tripdata_2022-12.parquet\n"
     ]
    },
    {
     "name": "stderr",
     "output_type": "stream",
     "text": [
      "\n"
     ]
    }
   ],
   "source": [
    "# Показываем состояние  \n",
    "show_current_state(bucket_name=\"bronze\", \n",
    "                   prefix=\"nyc-taxi-data\",\n",
    "                   base_url=\"https://d37ci6vzurychx.cloudfront.net/trip-data\",\n",
    "                   filename_template=\"yellow_tripdata_{year}-{month:02d}.parquet\",\n",
    "                   year=2022)"
   ]
  },
  {
   "cell_type": "code",
   "execution_count": null,
   "id": "46fcb170-a083-46d4-833a-9a6189b6689f",
   "metadata": {},
   "outputs": [],
   "source": []
  },
  {
   "cell_type": "code",
   "execution_count": null,
   "id": "80d30387-6578-43f7-9353-af02132ae315",
   "metadata": {},
   "outputs": [],
   "source": []
  }
 ],
 "metadata": {
  "kernelspec": {
   "display_name": "Python 3 (ipykernel)",
   "language": "python",
   "name": "python3"
  },
  "language_info": {
   "codemirror_mode": {
    "name": "ipython",
    "version": 3
   },
   "file_extension": ".py",
   "mimetype": "text/x-python",
   "name": "python",
   "nbconvert_exporter": "python",
   "pygments_lexer": "ipython3",
   "version": "3.8.10"
  }
 },
 "nbformat": 4,
 "nbformat_minor": 5
}
