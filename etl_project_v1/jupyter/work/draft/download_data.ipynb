{
 "cells": [
  {
   "cell_type": "code",
   "id": "98508e12-39c6-4252-a9a3-ec03f8575277",
   "metadata": {
    "ExecuteTime": {
     "end_time": "2025-10-28T18:59:48.608554Z",
     "start_time": "2025-10-28T18:59:48.600055Z"
    }
   },
   "source": [
    "import requests\n",
    "import os\n",
    "from tqdm.auto import tqdm"
   ],
   "outputs": [
    {
     "name": "stderr",
     "output_type": "stream",
     "text": [
      "C:\\Program Files\\Python\\Python313\\Lib\\site-packages\\tqdm\\auto.py:21: TqdmWarning: IProgress not found. Please update jupyter and ipywidgets. See https://ipywidgets.readthedocs.io/en/stable/user_install.html\n",
      "  from .autonotebook import tqdm as notebook_tqdm\n"
     ]
    }
   ],
   "execution_count": 2
  },
  {
   "cell_type": "markdown",
   "id": "3d94deaa-1c73-4f48-a3ae-41fb74a6a575",
   "metadata": {},
   "source": [
    "## Пример скачивания 1 файла"
   ]
  },
  {
   "cell_type": "code",
   "id": "ddbff966-bcaf-4258-9d33-5fda6663fda6",
   "metadata": {
    "ExecuteTime": {
     "end_time": "2025-10-28T19:00:28.558147Z",
     "start_time": "2025-10-28T19:00:28.555734Z"
    }
   },
   "source": [
    "# Full path - пример\n",
    "# https://d37ci6vzurychx.cloudfront.net/trip-data/yellow_tripdata_2025-01.parquet\n",
    "\n",
    "os.makedirs(\"nyc_taxi_data\", exist_ok=True) # Создаем папку\n",
    "\n",
    "base_url = \"https://d37ci6vzurychx.cloudfront.net/trip-data\" # базовый путь к файлу на сервере\n",
    "filename = f\"yellow_tripdata_2024-01.parquet\"                # имя файла\n",
    "url = f\"{base_url}/{filename}\"                               # Полный URL\n",
    "filepath = os.path.join(\"nyc_taxi_data\", filename)  # Путь на диске (корректное объединение пути с помощью os.path.join())"
   ],
   "outputs": [],
   "execution_count": 4
  },
  {
   "cell_type": "code",
   "id": "da158291-4b4d-41f1-99cb-4ae345052bba",
   "metadata": {
    "ExecuteTime": {
     "end_time": "2025-10-28T19:00:57.669350Z",
     "start_time": "2025-10-28T19:00:55.740048Z"
    }
   },
   "source": [
    "# весь блок одеваем в try except, \n",
    "# чтобы при случае отсутствия соединения или файла программа не крашнулась\n",
    "try:\n",
    "    response = requests.get(url, stream=True)  # 1. Отправляем HTTP GET запрос к URL для скачивания файла\n",
    "                                        #     stream=True - КРИТИЧЕСКИ важный параметр:\n",
    "                                        # Без stream=True: requests загружает ВЕСЬ файл в оперативную память сразу\n",
    "                                        #   С stream=True: файл загружается ЧАСТЯМИ (чанками)\n",
    "    \n",
    "    response.raise_for_status() # 2. ПРОВЕРКА НА ОШИБКИ HTTP: автоматически проверяет код ответа сервера\n",
    "                                # - Если код 200 (OK) - ничего не происходит, продолжаем выполнение\n",
    "                                # - Если код 4xx (клиентская ошибка) или 5xx (серверная ошибка) - \n",
    "                                #   ВЫБРАСЫВАЕТСЯ ИСКЛЮЧЕНИЕ requests.exceptions.HTTPError\n",
    "                                \n",
    "    with open(filepath, 'wb') as f: #  ОТКРЫВАЕМ ФАЙЛ ДЛЯ ЗАПИСИ в БИНАРНОМ РЕЖИМЕ:\n",
    "                                    #  'wb' означает:\n",
    "                                    #    w - write (запись)\n",
    "                                    #    b - binary (бинарный режим - для файлов, которые не являются текстом)\n",
    "                                    #  Конструкция 'with' гарантирует, что файл будет КОРРЕКТНО ЗАКРЫТ \n",
    "                                    #  даже если возникнет ошибка во время записи\n",
    "        for chunk in response.iter_content(chunk_size=8192):    # ПОСТРОЧНОЕ ЧТЕНИЕ И ЗАПИСА ФАЙЛА:\n",
    "                                                                # response.iter_content() - это ГЕНЕРАТОР, который возвращает файл \n",
    "                                                                # небольшими частями (чанками) вместо одной большой порции\n",
    "                                                                # chunk_size=8192 - размер одного кусочка в байтах (8 КБ)\n",
    "            if chunk:  # 5. ФИЛЬТРАЦИЯ ПУСТЫХ ЧАНКОВ:\n",
    "                       # Иногда iter_content может возвращать пустые чанки (None или b'')\n",
    "                       # Эта проверка гарантирует, что мы записываем ТОЛЬКО данные\n",
    "                       # и не выполняем лишних операций записи\n",
    "                f.write(chunk)  # 6. ЗАПИСЬ ЧАНКА НА ДИСК:\n",
    "                                # Каждый кусочек данных (8 КБ) записывается в файл\n",
    "                                # Это происходит МНОГОКРАТНО, пока весь файл не будет скачан\n",
    "    \n",
    "    file_size = os.path.getsize(filepath) / (1024 * 1024) # os.path.getsize(filepath) - получает размер файла в БАЙТАХ\n",
    "    result = f\"✓ {filename} ({file_size:.1f} MB)\"\n",
    "    \n",
    "except Exception as e:\n",
    "    result = f\"✗ {filename}: {e}\"\n",
    "\n",
    "print(f'Результат: {result}')"
   ],
   "outputs": [
    {
     "name": "stdout",
     "output_type": "stream",
     "text": [
      "Результат: ✓ yellow_tripdata_2024-01.parquet (47.6 MB)\n"
     ]
    }
   ],
   "execution_count": 5
  },
  {
   "cell_type": "markdown",
   "id": "c5d54656-b2fb-493f-ae28-dc02eecc3e29",
   "metadata": {},
   "source": [
    "## Скачиваем пакетом"
   ]
  },
  {
   "cell_type": "code",
   "id": "7d381838-231c-488b-aee1-ee6f33ed0aee",
   "metadata": {
    "ExecuteTime": {
     "end_time": "2025-10-28T19:03:04.567795Z",
     "start_time": "2025-10-28T19:03:01.209658Z"
    }
   },
   "source": [
    "def download_simple():\n",
    "    \"\"\"Упрощенная загрузка файлов по очереди\"\"\"\n",
    "    base_url = \"https://d37ci6vzurychx.cloudfront.net/trip-data\"\n",
    "    os.makedirs(\"nyc_taxi_data\", exist_ok=True)\n",
    "    \n",
    "    results = []\n",
    "    \n",
    "    for month in tqdm(range(1, 13), desc=\"Скачивание файла\"):\n",
    "        filename = f\"yellow_tripdata_2024-{month:02d}.parquet\"\n",
    "        url = f\"{base_url}/{filename}\"\n",
    "        filepath = os.path.join(\"nyc_taxi_data\", filename)\n",
    "        \n",
    "        try:\n",
    "            response = requests.get(url, stream=True)\n",
    "            response.raise_for_status()\n",
    "            \n",
    "            with open(filepath, 'wb') as f:\n",
    "                for chunk in response.iter_content(chunk_size=8192):\n",
    "                    if chunk:\n",
    "                        f.write(chunk)\n",
    "            \n",
    "            file_size = os.path.getsize(filepath) / (1024 * 1024)\n",
    "            results.append(f\"✓ {filename} ({file_size:.1f} MB)\")\n",
    "            \n",
    "        except Exception as e:\n",
    "            results.append(f\"✗ {filename}: {e}\")\n",
    "    \n",
    "    return results\n",
    "\n",
    "print(\"🚕 Загрузка NYC Yellow Taxi 2024 (упрощенная версия)...\")\n",
    "results = download_simple()\n",
    "\n",
    "print(\"\\nРезультаты:\")\n",
    "for result in results:\n",
    "    print(result)"
   ],
   "outputs": [
    {
     "name": "stdout",
     "output_type": "stream",
     "text": [
      "🚕 Загрузка NYC Yellow Taxi 2024 (упрощенная версия)...\n"
     ]
    },
    {
     "name": "stderr",
     "output_type": "stream",
     "text": [
      "Скачивание файла: 100%|██████████| 3/3 [00:03<00:00,  1.12s/it]"
     ]
    },
    {
     "name": "stdout",
     "output_type": "stream",
     "text": [
      "\n",
      "Результаты:\n",
      "✓ yellow_tripdata_2024-12.parquet (58.7 MB)\n",
      "✗ yellow_tripdata_2024-13.parquet: 403 Client Error: Forbidden for url: https://d37ci6vzurychx.cloudfront.net/trip-data/yellow_tripdata_2024-13.parquet\n",
      "✗ yellow_tripdata_2024-14.parquet: 403 Client Error: Forbidden for url: https://d37ci6vzurychx.cloudfront.net/trip-data/yellow_tripdata_2024-14.parquet\n"
     ]
    },
    {
     "name": "stderr",
     "output_type": "stream",
     "text": [
      "\n"
     ]
    }
   ],
   "execution_count": 7
  },
  {
   "cell_type": "code",
   "execution_count": null,
   "id": "e6347d19-78dc-46ec-b2dd-0ec50dce3e80",
   "metadata": {},
   "outputs": [],
   "source": []
  }
 ],
 "metadata": {
  "kernelspec": {
   "display_name": "Python 3 (ipykernel)",
   "language": "python",
   "name": "python3"
  },
  "language_info": {
   "codemirror_mode": {
    "name": "ipython",
    "version": 3
   },
   "file_extension": ".py",
   "mimetype": "text/x-python",
   "name": "python",
   "nbconvert_exporter": "python",
   "pygments_lexer": "ipython3",
   "version": "3.8.10"
  }
 },
 "nbformat": 4,
 "nbformat_minor": 5
}
